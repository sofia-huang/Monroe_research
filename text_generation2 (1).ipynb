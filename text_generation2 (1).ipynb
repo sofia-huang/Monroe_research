{
  "nbformat": 4,
  "nbformat_minor": 0,
  "metadata": {
    "accelerator": "GPU",
    "colab": {
      "name": "text_generation2.ipynb",
      "provenance": [],
      "collapsed_sections": []
    },
    "kernelspec": {
      "display_name": "Python 3",
      "name": "python3"
    }
  },
  "cells": [
    {
      "cell_type": "markdown",
      "metadata": {
        "id": "ovpZyIhNIgoq"
      },
      "source": [
        "# Text generation with an RNN"
      ]
    },
    {
      "cell_type": "markdown",
      "metadata": {
        "id": "WGyKZj3bzf9p"
      },
      "source": [
        "### Import TensorFlow and other libraries"
      ]
    },
    {
      "cell_type": "code",
      "metadata": {
        "id": "yG_n40gFzf9s"
      },
      "source": [
        "import tensorflow as tf\n",
        "from tensorflow.keras.layers.experimental import preprocessing\n",
        "import numpy as np\n",
        "import os\n",
        "import time"
      ],
      "execution_count": null,
      "outputs": []
    },
    {
      "cell_type": "markdown",
      "metadata": {
        "id": "EHDoRoc5PKWz"
      },
      "source": [
        "### Download the dataset\n"
      ]
    },
    {
      "cell_type": "code",
      "metadata": {
        "id": "0RBmeBsFLP4t",
        "colab": {
          "base_uri": "https://localhost:8080/"
        },
        "outputId": "4642a070-fd11-42bd-eb83-25af9ea0ec67"
      },
      "source": [
        "from google.colab import drive\n",
        "drive.mount('/content/drive')"
      ],
      "execution_count": null,
      "outputs": [
        {
          "output_type": "stream",
          "text": [
            "Mounted at /content/drive\n"
          ],
          "name": "stdout"
        }
      ]
    },
    {
      "cell_type": "code",
      "metadata": {
        "id": "YAt0t-9ULhCU"
      },
      "source": [
        "path_to_file = '/content/drive/MyDrive/Colab Notebooks/KindlePreprocessed.txt'"
      ],
      "execution_count": null,
      "outputs": []
    },
    {
      "cell_type": "markdown",
      "metadata": {
        "id": "UHjdCjDuSvX_"
      },
      "source": [
        "### Read the data\n"
      ]
    },
    {
      "cell_type": "code",
      "metadata": {
        "id": "aavnuByVymwK",
        "colab": {
          "base_uri": "https://localhost:8080/"
        },
        "outputId": "a328ada1-9308-49e1-f93b-73aad1486d9d"
      },
      "source": [
        "# read and decode for py2 compat.\n",
        "text = open(path_to_file, 'rb').read().decode(encoding='utf-8')\n",
        "text = text.replace('\\n', ' ')\n",
        "print(f'Length of text: {len(text)} characters')"
      ],
      "execution_count": null,
      "outputs": [
        {
          "output_type": "stream",
          "text": [
            "Length of text: 10172244 characters\n"
          ],
          "name": "stdout"
        }
      ]
    },
    {
      "cell_type": "code",
      "metadata": {
        "id": "Duhg9NrUymwO",
        "colab": {
          "base_uri": "https://localhost:8080/"
        },
        "outputId": "d9b3e2ea-dc0a-4742-f85e-5e810edd7fc9"
      },
      "source": [
        "# Take a look at the first 250 characters in text\n",
        "print(text[:250])"
      ],
      "execution_count": null,
      "outputs": [
        {
          "output_type": "stream",
          "text": [
            "silly predictable romance, read it in an afternoon with a hangover, that's all I'd recommend this author for. Fortunately it was free and I test drove my new Kindle. This is not a hockey romance! It is Completely misleading and not a great story. I a\n"
          ],
          "name": "stdout"
        }
      ]
    },
    {
      "cell_type": "code",
      "metadata": {
        "id": "IlCgQBRVymwR",
        "colab": {
          "base_uri": "https://localhost:8080/"
        },
        "outputId": "80394c2a-6621-4ec6-e62a-20deedaccd3f"
      },
      "source": [
        "# unique characters \n",
        "vocab = sorted(set(text))\n",
        "print(f'{len(vocab)} unique characters')"
      ],
      "execution_count": null,
      "outputs": [
        {
          "output_type": "stream",
          "text": [
            "96 unique characters\n"
          ],
          "name": "stdout"
        }
      ]
    },
    {
      "cell_type": "markdown",
      "metadata": {
        "id": "rNnrKn_lL-IJ"
      },
      "source": [
        "## Process the text"
      ]
    },
    {
      "cell_type": "code",
      "metadata": {
        "id": "6GMlCe3qzaL9"
      },
      "source": [
        "# convert strings to numerical representation \n",
        "ids_from_chars = preprocessing.StringLookup(\n",
        "    vocabulary=list(vocab), mask_token=None)"
      ],
      "execution_count": null,
      "outputs": []
    },
    {
      "cell_type": "code",
      "metadata": {
        "id": "Wd2m3mqkDjRj"
      },
      "source": [
        "# invert representation to recover readable strings\n",
        "chars_from_ids = tf.keras.layers.experimental.preprocessing.StringLookup(\n",
        "    vocabulary=ids_from_chars.get_vocabulary(), invert=True, mask_token=None)"
      ],
      "execution_count": null,
      "outputs": []
    },
    {
      "cell_type": "code",
      "metadata": {
        "id": "zxYI-PeltqKP",
        "colab": {
          "base_uri": "https://localhost:8080/"
        },
        "outputId": "4a379367-05e9-4bf6-eae8-6ae161b83ccd"
      },
      "source": [
        "# join chars into strings\n",
        "tf.strings.reduce_join(chars, axis=-1).numpy()"
      ],
      "execution_count": null,
      "outputs": [
        {
          "output_type": "execute_result",
          "data": {
            "text/plain": [
              "array([b'abcdefg', b'xyz'], dtype=object)"
            ]
          },
          "metadata": {
            "tags": []
          },
          "execution_count": 32
        }
      ]
    },
    {
      "cell_type": "code",
      "metadata": {
        "id": "w5apvBDn9Ind"
      },
      "source": [
        "def text_from_ids(ids):\n",
        "  return tf.strings.reduce_join(chars_from_ids(ids), axis=-1)"
      ],
      "execution_count": null,
      "outputs": []
    },
    {
      "cell_type": "code",
      "metadata": {
        "id": "9NGu-FkO_kYU"
      },
      "source": [
        "# function that takes a sequence, duplicates and shifts it to align the input and label\n",
        "def split_input_target(sequence):\n",
        "    input_text = sequence[:-1]\n",
        "    target_text = sequence[1:]\n",
        "    return input_text, target_text"
      ],
      "execution_count": 1,
      "outputs": []
    },
    {
      "cell_type": "code",
      "metadata": {
        "id": "WxbDTJTw5u_P",
        "colab": {
          "base_uri": "https://localhost:8080/"
        },
        "outputId": "caa791fd-0fb3-44ce-e177-bf95dd830ae3"
      },
      "source": [
        "split_input_target(list(\"Tensorflow\"))"
      ],
      "execution_count": 3,
      "outputs": [
        {
          "output_type": "execute_result",
          "data": {
            "text/plain": [
              "(['T', 'e', 'n', 's', 'o', 'r', 'f', 'l', 'o'],\n",
              " ['e', 'n', 's', 'o', 'r', 'f', 'l', 'o', 'w'])"
            ]
          },
          "metadata": {
            "tags": []
          },
          "execution_count": 3
        }
      ]
    },
    {
      "cell_type": "code",
      "metadata": {
        "id": "p2pGotuNzf-S",
        "colab": {
          "base_uri": "https://localhost:8080/"
        },
        "outputId": "0c4c26b6-aa4c-4ce2-f7e5-fa82dc69e171"
      },
      "source": [
        "# create training batches w shuffled data to. feed into model\n",
        "BATCH_SIZE = 64\n",
        "\n",
        "# buffer size to shuffle the dataset\n",
        "BUFFER_SIZE = 10000\n",
        "\n",
        "dataset = (\n",
        "    dataset\n",
        "    .shuffle(BUFFER_SIZE)\n",
        "    .batch(BATCH_SIZE, drop_remainder=True)\n",
        "    .prefetch(tf.data.experimental.AUTOTUNE))\n",
        "\n",
        "dataset"
      ],
      "execution_count": null,
      "outputs": [
        {
          "output_type": "execute_result",
          "data": {
            "text/plain": [
              "<PrefetchDataset shapes: ((64, 100), (64, 100)), types: (tf.int64, tf.int64)>"
            ]
          },
          "metadata": {
            "tags": []
          },
          "execution_count": 44
        }
      ]
    },
    {
      "cell_type": "markdown",
      "metadata": {
        "id": "r6oUuElIMgVx"
      },
      "source": [
        "## Build The Model"
      ]
    },
    {
      "cell_type": "code",
      "metadata": {
        "id": "zHT8cLh7EAsg"
      },
      "source": [
        "# length of the vocabulary in chars\n",
        "vocab_size = len(vocab)\n",
        "# embedding dimension\n",
        "embedding_dim = 256\n",
        "# number of RNN units\n",
        "rnn_units = 1024"
      ],
      "execution_count": null,
      "outputs": []
    },
    {
      "cell_type": "code",
      "metadata": {
        "id": "wj8HQ2w8z4iO"
      },
      "source": [
        "# build the model (keras.Model subclass)\n",
        "class MyModel(tf.keras.Model):\n",
        "  def __init__(self, vocab_size, embedding_dim, rnn_units):\n",
        "    super().__init__(self)\n",
        "    self.embedding = tf.keras.layers.Embedding(vocab_size, embedding_dim)\n",
        "    self.gru = tf.keras.layers.GRU(rnn_units,\n",
        "                                   return_sequences=True,\n",
        "                                   return_state=True)\n",
        "    self.dense = tf.keras.layers.Dense(vocab_size)\n",
        "\n",
        "  def call(self, inputs, states=None, return_state=False, training=False):\n",
        "    x = inputs\n",
        "    x = self.embedding(x, training=training)\n",
        "    if states is None:\n",
        "      states = self.gru.get_initial_state(x)\n",
        "    x, states = self.gru(x, initial_state=states, training=training)\n",
        "    x = self.dense(x, training=training)\n",
        "\n",
        "    if return_state:\n",
        "      return x, states\n",
        "    else:\n",
        "      return x"
      ],
      "execution_count": null,
      "outputs": []
    },
    {
      "cell_type": "code",
      "metadata": {
        "id": "IX58Xj9z47Aw"
      },
      "source": [
        "model = MyModel(\n",
        "    vocab_size=len(ids_from_chars.get_vocabulary()),\n",
        "    embedding_dim=embedding_dim,\n",
        "    rnn_units=rnn_units)"
      ],
      "execution_count": null,
      "outputs": []
    },
    {
      "cell_type": "code",
      "metadata": {
        "id": "vPGmAAXmVLGC",
        "colab": {
          "base_uri": "https://localhost:8080/"
        },
        "outputId": "35a5666f-715f-4df5-e11a-e09d80422e53"
      },
      "source": [
        "model.summary()"
      ],
      "execution_count": null,
      "outputs": [
        {
          "output_type": "stream",
          "text": [
            "Model: \"my_model\"\n",
            "_________________________________________________________________\n",
            "Layer (type)                 Output Shape              Param #   \n",
            "=================================================================\n",
            "embedding (Embedding)        multiple                  24832     \n",
            "_________________________________________________________________\n",
            "gru (GRU)                    multiple                  3938304   \n",
            "_________________________________________________________________\n",
            "dense (Dense)                multiple                  99425     \n",
            "=================================================================\n",
            "Total params: 4,062,561\n",
            "Trainable params: 4,062,561\n",
            "Non-trainable params: 0\n",
            "_________________________________________________________________\n"
          ],
          "name": "stdout"
        }
      ]
    },
    {
      "cell_type": "markdown",
      "metadata": {
        "id": "LJL0Q0YPY6Ee"
      },
      "source": [
        "## Train the model"
      ]
    },
    {
      "cell_type": "code",
      "metadata": {
        "id": "ZOeWdgxNFDXq"
      },
      "source": [
        "# attach an optimizer and loss function\n",
        "loss = tf.losses.SparseCategoricalCrossentropy(from_logits=True)"
      ],
      "execution_count": null,
      "outputs": []
    },
    {
      "cell_type": "code",
      "metadata": {
        "id": "4HrXTACTdzY-",
        "colab": {
          "base_uri": "https://localhost:8080/"
        },
        "outputId": "f29162e2-fe23-41a5-9955-efe492b9411b"
      },
      "source": [
        "example_batch_loss = loss(target_example_batch, example_batch_predictions)\n",
        "mean_loss = example_batch_loss.numpy().mean()\n",
        "print(\"Prediction shape: \", example_batch_predictions.shape, \" # (batch_size, sequence_length, vocab_size)\")\n",
        "print(\"Mean loss:        \", mean_loss)"
      ],
      "execution_count": null,
      "outputs": [
        {
          "output_type": "stream",
          "text": [
            "Prediction shape:  (64, 100, 97)  # (batch_size, sequence_length, vocab_size)\n",
            "Mean loss:         4.575968\n"
          ],
          "name": "stdout"
        }
      ]
    },
    {
      "cell_type": "code",
      "metadata": {
        "id": "MAJfS5YoFiHf",
        "colab": {
          "base_uri": "https://localhost:8080/"
        },
        "outputId": "5ebf7fa7-bbe1-46f8-9f67-c964d4184542"
      },
      "source": [
        "# newly initialized model should have an exponential mean loss approx equal to vocab size\n",
        "tf.exp(mean_loss).numpy()"
      ],
      "execution_count": null,
      "outputs": [
        {
          "output_type": "execute_result",
          "data": {
            "text/plain": [
              "97.12198"
            ]
          },
          "metadata": {
            "tags": []
          },
          "execution_count": 55
        }
      ]
    },
    {
      "cell_type": "code",
      "metadata": {
        "id": "DDl1_Een6rL0"
      },
      "source": [
        "model.compile(optimizer='adam', loss=loss)"
      ],
      "execution_count": null,
      "outputs": []
    },
    {
      "cell_type": "code",
      "metadata": {
        "id": "W6fWTriUZP-n"
      },
      "source": [
        "# configure checkpoints\n",
        "checkpoint_dir = './training_checkpoints'\n",
        "checkpoint_prefix = os.path.join(checkpoint_dir, \"ckpt_{epoch}\")\n",
        "\n",
        "checkpoint_callback = tf.keras.callbacks.ModelCheckpoint(\n",
        "    filepath=checkpoint_prefix,\n",
        "    save_weights_only=True)"
      ],
      "execution_count": null,
      "outputs": []
    },
    {
      "cell_type": "code",
      "metadata": {
        "id": "7yGBE2zxMMHs"
      },
      "source": [
        "# train the model\n",
        "EPOCHS = 10"
      ],
      "execution_count": null,
      "outputs": []
    },
    {
      "cell_type": "code",
      "metadata": {
        "id": "UK-hmKjYVoll",
        "colab": {
          "base_uri": "https://localhost:8080/"
        },
        "outputId": "71e32127-6ec9-48c2-ab9c-25d0771a7d89"
      },
      "source": [
        "history = model.fit(dataset, epochs=EPOCHS, callbacks=[checkpoint_callback])"
      ],
      "execution_count": null,
      "outputs": [
        {
          "output_type": "stream",
          "text": [
            "Epoch 1/10\n",
            "1573/1573 [==============================] - 219s 137ms/step - loss: 1.5956\n",
            "Epoch 2/10\n",
            "1573/1573 [==============================] - 217s 137ms/step - loss: 1.2173\n",
            "Epoch 3/10\n",
            "1573/1573 [==============================] - 218s 138ms/step - loss: 1.1575\n",
            "Epoch 4/10\n",
            "1573/1573 [==============================] - 217s 137ms/step - loss: 1.1247\n",
            "Epoch 5/10\n",
            "1573/1573 [==============================] - 218s 138ms/step - loss: 1.1023\n",
            "Epoch 6/10\n",
            "1573/1573 [==============================] - 217s 137ms/step - loss: 1.0864\n",
            "Epoch 7/10\n",
            "1573/1573 [==============================] - 218s 138ms/step - loss: 1.0748\n",
            "Epoch 8/10\n",
            "1573/1573 [==============================] - 217s 137ms/step - loss: 1.0668\n",
            "Epoch 9/10\n",
            "1573/1573 [==============================] - 218s 138ms/step - loss: 1.0612\n",
            "Epoch 10/10\n",
            "1573/1573 [==============================] - 218s 138ms/step - loss: 1.0582\n"
          ],
          "name": "stdout"
        }
      ]
    },
    {
      "cell_type": "markdown",
      "metadata": {
        "id": "kKkD5M6eoSiN"
      },
      "source": [
        "## Generate text"
      ]
    },
    {
      "cell_type": "code",
      "metadata": {
        "id": "iSBU1tHmlUSs"
      },
      "source": [
        "# single step prediction\n",
        "class OneStep(tf.keras.Model):\n",
        "  def __init__(self, model, chars_from_ids, ids_from_chars, temperature=1.0):\n",
        "    super().__init__()\n",
        "    self.temperature = temperature\n",
        "    self.model = model\n",
        "    self.chars_from_ids = chars_from_ids\n",
        "    self.ids_from_chars = ids_from_chars\n",
        "\n",
        "    # create a mask to prevent \"[UNK]\" from being generated.\n",
        "    skip_ids = self.ids_from_chars(['[UNK]'])[:, None]\n",
        "    sparse_mask = tf.SparseTensor(\n",
        "        # put a -inf at each bad index.\n",
        "        values=[-float('inf')]*len(skip_ids),\n",
        "        indices=skip_ids,\n",
        "        # match the shape to the vocabulary\n",
        "        dense_shape=[len(ids_from_chars.get_vocabulary())])\n",
        "    self.prediction_mask = tf.sparse.to_dense(sparse_mask)\n",
        "\n",
        "  @tf.function\n",
        "  def generate_one_step(self, inputs, states=None):\n",
        "    # convert strings to token IDs.\n",
        "    input_chars = tf.strings.unicode_split(inputs, 'UTF-8')\n",
        "    input_ids = self.ids_from_chars(input_chars).to_tensor()\n",
        "\n",
        "\n",
        "    # predicted_logits.shape is [batch, char, next_char_logits]\n",
        "    predicted_logits, states = self.model(inputs=input_ids, states=states,\n",
        "                                          return_state=True)\n",
        "    # only use the last prediction.\n",
        "    predicted_logits = predicted_logits[:, -1, :]\n",
        "    predicted_logits = predicted_logits/self.temperature\n",
        "    # apply the prediction mask: prevent \"[UNK]\" from being generated.\n",
        "    predicted_logits = predicted_logits + self.prediction_mask\n",
        "\n",
        "    # sample the output logits to generate token IDs.\n",
        "    predicted_ids = tf.random.categorical(predicted_logits, num_samples=1)\n",
        "    predicted_ids = tf.squeeze(predicted_ids, axis=-1)\n",
        "\n",
        "    # convert from token ids to characters\n",
        "    predicted_chars = self.chars_from_ids(predicted_ids)\n",
        "\n",
        "    # return the characters and model state.\n",
        "    return predicted_chars, states"
      ],
      "execution_count": null,
      "outputs": []
    },
    {
      "cell_type": "code",
      "metadata": {
        "id": "fqMOuDutnOxK"
      },
      "source": [
        "one_step_model = OneStep(model, chars_from_ids, ids_from_chars)"
      ],
      "execution_count": null,
      "outputs": []
    },
    {
      "cell_type": "code",
      "metadata": {
        "id": "ZkLu7Y8UCMT7",
        "colab": {
          "base_uri": "https://localhost:8080/"
        },
        "outputId": "7c40008b-18d0-4ced-9729-f9ecd3b1b85d"
      },
      "source": [
        "# generate 10 product reviews using the trained model\n",
        "start = time.time()\n",
        "states = None\n",
        "next_char = tf.constant(['The book', 'The book', 'The book', 'The book', 'The book', 'The book', 'The book', 'The book', 'The book', 'The book'])\n",
        "result = [next_char]\n",
        "\n",
        "for n in range(1000):\n",
        "  next_char, states = one_step_model.generate_one_step(next_char, states=states)\n",
        "  result.append(next_char)\n",
        "\n",
        "result = tf.strings.join(result)\n",
        "end = time.time()\n",
        "words = tf.strings.join(result).numpy().decode(\"utf-8\")\n",
        "print(result, ' ' + '_'*80)\n",
        "print('\\nRun time:', end - start)\n",
        "print(words)\n",
        "text_file = open(\"/content/drive/MyDrive/Colab Notebooks/results.txt\", \"w\")\n",
        "n = text_file.write(words)\n",
        "text_file.close()"
      ],
      "execution_count": null,
      "outputs": [
        {
          "output_type": "stream",
          "text": [
            "tf.Tensor(\n",
            "[b\"The book is subtised. Until I just made Edjortice young pleasure against what the hell. The majority only be so far of Barrow's the same protection eventually seem to want to comment where they are.  Lilliana Timgi wakes compassion to help you hooked revenged on another to torn motthe Russ! And I zouth competerly escape, to the point or the storyline. This is a wonderful story of love that Vic Felton has been with him, he's supposed to be the verge of town of ones jule and sets out to just en if she. Looking forward to reading more books in the series! I will tell about Geri's Justice Hut, forth; this one also thinks so that could take a colded weekend more clever.  She meets the romantic aftermath for a first love and turn down everything finally feeling for Abra.  Would have told her to stop Rexen in for an honesty one.  The two punchs make me a whole lot of twists and turns that are looking for being bride. I really enjoyed this book. I was not disappointed in the next story (interesting pl\"\n",
            " b'The book expresses his new turns and makes a big minute about Sheridans will leave his car five her. Her bride series is get enough of FUN - a discovery that despaise and absorbing.  Who was always in front of him?  Taldur Broh puth her feet her former prisoner that her family did interest .  I\\'m hoping I was alright with your the sex scenes. I love the characters and I liked the series.  I received a free copy of this story by Binora My Rayke: Julia balance! The openin Cather couldn\\'t be waiting for the next book so far. The title he believes that their heal got out of a lot. the time todo Grace to luck scene that she had already ready to leave them early and communication? When Rachele was trying to be love?  The story, and smill candid and the povully it up in the ending perspective. Very exciting \"novel</dp/B00707SHYX7YY@Y//real/sexy. I\\'m so glad to say there was another great book If you have read severa lovely visit and a little rough ending. There was set in which I liked the characters'\n",
            " b\"The books were going to caught up it with a strong holiday wester series. There are some grammar and twists. I loved this book, but it had moments of bad dialogue. It was miss the story that leaves you hanging right into the story as I started reading the book in the series. I was hooked from judgeous woman of angst and ways outside of that. Which I endone who play!! loved every world they keep getting better. The author made the short story to buy a novella that says it and end, but that's of preparing to come. I don't know if it, I'm looking forward to more of her two paranormal errors, and be read. Oh my god.  Linded hard no matter what to do so. The Saga is a pretty good guy and 4 to help pull other if she wants... the reader safe the sense of being sweet, and she is starting to reach them everything. While it was still going against meetamining onlones and act-as she story putting them out of cohe into a first practical ending. Surpers camp to the couple that, turns, and stay kidnapped an\"\n",
            " b\"The books boyfriends, Lucas apart.  I clicked on til you, I did slow,ented at the selection of Misspellic decides to go back and read this one! Glad the end if Ms. History of a series of this book needs to keep me right therefore to worre, like each other that also improve off the way.  It's steamy into, up at the end of the book but something untaked. Once again people have learned what you see how she divers to him over and don't stay exall on the floor.  They both didn't tell her to flash came to her. Can would pull on him calling to preached. He meets the traghtiestale and feelings between Dalta yeles have lost a go home. And then followed her need for unsual events that pop up and appeals to be the one of him but her performance demonstrations wised computers. Grace is concerned him to be vidweff in the fact with the guys confide. The sweet species call out the paragraph with a bampiness, and curious to Monday with...no pull between them seeming the autrol goods and the race chicce-compul\"\n",
            " b\"The book came to keep your huit in a sweet town.  But, Vern in the final shyse previous books is a nicorphy year neivel.  This is a book I would have learned a little more to finding the story telling me else in fact I wanted, was a good and rude over instruction on each characters. It was a paranormal romance begam of detail in exchange for my honest unexcepaining...very interesting real character that I truly believe that it was or T. Brilliant story! Cooic close has helped her to trust one ago how what they turn out.  Macys life wants your Connectic imeas that he's big families that have them exactly. The only thing i not have your life before and made it all a bit. And was things understandable as good as a book.  I like these tones and the disoblem was as answered and one of the best information on out much as mistakes and graphic, like her best friend and people begins to contact Beral cade upon died. He found nuclear taste forced into her own fantastic felicious for hotness. I did not f\"\n",
            " b'The book may have not read enough sides, she came to exist. Her writing style is often love and climaction and Pretended coloming recipes of a sequel to the fishing else. Pown pages, saying Back to readers young adventure.  I read other sixes by Rachael Jordans and her offers from Colorette Dunka, but don\\'t succeed in practice from details I\\'m sure to keep wrap digital.  When Lucian put her spy go into him, even if keeping a smil; now, and unwonfused the Project County that had not on that side of his life. Between them in turn or the path of your- longer. Although the hell managises to think of the other WJ and Maddox believes he didn\\'t expect is an interventional toen she begins them. His name is area despite to prepare their side older mansions and insecurities and never disappoint you ..\" but the dishonest love off there .  Nendee Emman wondered up his back for a strong, Annessenth best friend, hasn\\'t explain not long-not-holding your hearted for her, but once sides and pese actions.  Sam '\n",
            " b\"The books have a great and read far from start to finish the books!!!!  Graces manager, Charisma Drake keeps her apartability when hellowed the swin but she ever gets wonted head it because he is awesome .. Chairs availing Froi and Chey in fairy tale and being pregnant general in deeper than graduated on a pox, but I would definitely get to the tissupours. Where Heleng Brushlinghies are so real and that he really is and forcing Jackson.  The dialogue was so HOT HOT FROC HEAKTRY book about Kate seem. We must read Carbanthas best friend Sloane told his real problem she took her traces great story. A percomano multical stubborn community with Christian and Beauria.  Their new voice on the shelp thats horribly young. He never knew see what he is Martez Major do with the bachelors and came out but I'm looking forward to reading holfs of personal trainlics they and what happened next.  This is sleet and get it...I think I was getting your all magi mold in Nelly Ribert constant gorgeous and honesty t\"\n",
            " b'The books in this book, whey all seemed to be in the minutiful size.  I enjoyed the book even because you  did and with the HEAith her compare story very good read. I\\'d read a los of books before they are never really hown to give this book some.  I got hook fooling aliving the different mindset my work from the maravillage in the past as he doesn\\'t want to share an angel to Jordansic? Can, sleeps off the outside, but she\\'d go away for me. I look forward to reading her attention and afraid that I head of watching up some part 2-to fattoe worthy; holding me in repetition. To very enjoyable reader and the case in it.  If you read Book 1, D&N\\'AE Knight is Vil. This is definitely an actually romance,  \"expectation\". Would I believe their mom. The story is about what comes and you are at least donor forties they discusse a long.  Detective/girl doesn\\'t have time to get him the ted would of been behind his life to play - a scene to stay up upon her premise the Wido seek several own heads.  Brim and '\n",
            " b\"The book boyfriends, who do not allow anyone brief a dream who were better. This guide together the power is supposed to make these characters that less the so that the couple do they find themselves, letting Over Carniver. And she carries him.  She hasn't really put it along with her. But she is supposed to be possibly his first line. It was still the good journey of it every time I read the person who love it. the sexual stefps to the story much, and everything they can complex number of the effort and turned into a human being said everyone else for started onton a person abound and is no excract on the courtroom school soul & held immediately.  I did go ahead of the way that Caring- mine isn't really good to her family. He is also low carbs, and how the author turns her upcoming girl in the matire when hes hot along with his team in the short series, but still melbs.READS. But loving, and pleasure of love. But as always, you need in Yerrigoth faiding. The book set is anticipating and stand\"\n",
            " b\"The book sing richly leading debtures of spelling era and team meddling. Michael is a little acceding on her. When he does see why he is a trim and self-published. Beautiful Steffaumosies are human and calls into more emphasies. al definitely on present time. If I could Valelee to re describe their heat. Or how she were speaking the ultimate father is growing drawn to her time, thanks forever. We never smile to Las Vegails of Elizabeth Germany  Conscience is about is, their troubles after sex with Penelona and who hit their own.  Will SEOZEL  by different from Running for a marriage in 1500 and Marchemer. Will her from many grown up ex-home B/m. Question wrote Elizabeth.  Lilly is the important conversation as motivated up to her family.  I loved R.AL. He's a bit more but, or hello. Loved the way they share during the highly hugue RID DBFH. Well uses these od quite I haven't read books of life! The characters develop herself better to admit it Logan walks in love for 201 persiots of our hero, \"], shape=(10,), dtype=string)  ________________________________________________________________________________\n",
            "\n",
            "Run time: 5.041287660598755\n",
            "The book is subtised. Until I just made Edjortice young pleasure against what the hell. The majority only be so far of Barrow's the same protection eventually seem to want to comment where they are.  Lilliana Timgi wakes compassion to help you hooked revenged on another to torn motthe Russ! And I zouth competerly escape, to the point or the storyline. This is a wonderful story of love that Vic Felton has been with him, he's supposed to be the verge of town of ones jule and sets out to just en if she. Looking forward to reading more books in the series! I will tell about Geri's Justice Hut, forth; this one also thinks so that could take a colded weekend more clever.  She meets the romantic aftermath for a first love and turn down everything finally feeling for Abra.  Would have told her to stop Rexen in for an honesty one.  The two punchs make me a whole lot of twists and turns that are looking for being bride. I really enjoyed this book. I was not disappointed in the next story (interesting plThe book expresses his new turns and makes a big minute about Sheridans will leave his car five her. Her bride series is get enough of FUN - a discovery that despaise and absorbing.  Who was always in front of him?  Taldur Broh puth her feet her former prisoner that her family did interest .  I'm hoping I was alright with your the sex scenes. I love the characters and I liked the series.  I received a free copy of this story by Binora My Rayke: Julia balance! The openin Cather couldn't be waiting for the next book so far. The title he believes that their heal got out of a lot. the time todo Grace to luck scene that she had already ready to leave them early and communication? When Rachele was trying to be love?  The story, and smill candid and the povully it up in the ending perspective. Very exciting \"novel</dp/B00707SHYX7YY@Y//real/sexy. I'm so glad to say there was another great book If you have read severa lovely visit and a little rough ending. There was set in which I liked the charactersThe books were going to caught up it with a strong holiday wester series. There are some grammar and twists. I loved this book, but it had moments of bad dialogue. It was miss the story that leaves you hanging right into the story as I started reading the book in the series. I was hooked from judgeous woman of angst and ways outside of that. Which I endone who play!! loved every world they keep getting better. The author made the short story to buy a novella that says it and end, but that's of preparing to come. I don't know if it, I'm looking forward to more of her two paranormal errors, and be read. Oh my god.  Linded hard no matter what to do so. The Saga is a pretty good guy and 4 to help pull other if she wants... the reader safe the sense of being sweet, and she is starting to reach them everything. While it was still going against meetamining onlones and act-as she story putting them out of cohe into a first practical ending. Surpers camp to the couple that, turns, and stay kidnapped anThe books boyfriends, Lucas apart.  I clicked on til you, I did slow,ented at the selection of Misspellic decides to go back and read this one! Glad the end if Ms. History of a series of this book needs to keep me right therefore to worre, like each other that also improve off the way.  It's steamy into, up at the end of the book but something untaked. Once again people have learned what you see how she divers to him over and don't stay exall on the floor.  They both didn't tell her to flash came to her. Can would pull on him calling to preached. He meets the traghtiestale and feelings between Dalta yeles have lost a go home. And then followed her need for unsual events that pop up and appeals to be the one of him but her performance demonstrations wised computers. Grace is concerned him to be vidweff in the fact with the guys confide. The sweet species call out the paragraph with a bampiness, and curious to Monday with...no pull between them seeming the autrol goods and the race chicce-compulThe book came to keep your huit in a sweet town.  But, Vern in the final shyse previous books is a nicorphy year neivel.  This is a book I would have learned a little more to finding the story telling me else in fact I wanted, was a good and rude over instruction on each characters. It was a paranormal romance begam of detail in exchange for my honest unexcepaining...very interesting real character that I truly believe that it was or T. Brilliant story! Cooic close has helped her to trust one ago how what they turn out.  Macys life wants your Connectic imeas that he's big families that have them exactly. The only thing i not have your life before and made it all a bit. And was things understandable as good as a book.  I like these tones and the disoblem was as answered and one of the best information on out much as mistakes and graphic, like her best friend and people begins to contact Beral cade upon died. He found nuclear taste forced into her own fantastic felicious for hotness. I did not fThe book may have not read enough sides, she came to exist. Her writing style is often love and climaction and Pretended coloming recipes of a sequel to the fishing else. Pown pages, saying Back to readers young adventure.  I read other sixes by Rachael Jordans and her offers from Colorette Dunka, but don't succeed in practice from details I'm sure to keep wrap digital.  When Lucian put her spy go into him, even if keeping a smil; now, and unwonfused the Project County that had not on that side of his life. Between them in turn or the path of your- longer. Although the hell managises to think of the other WJ and Maddox believes he didn't expect is an interventional toen she begins them. His name is area despite to prepare their side older mansions and insecurities and never disappoint you ..\" but the dishonest love off there .  Nendee Emman wondered up his back for a strong, Annessenth best friend, hasn't explain not long-not-holding your hearted for her, but once sides and pese actions.  Sam The books have a great and read far from start to finish the books!!!!  Graces manager, Charisma Drake keeps her apartability when hellowed the swin but she ever gets wonted head it because he is awesome .. Chairs availing Froi and Chey in fairy tale and being pregnant general in deeper than graduated on a pox, but I would definitely get to the tissupours. Where Heleng Brushlinghies are so real and that he really is and forcing Jackson.  The dialogue was so HOT HOT FROC HEAKTRY book about Kate seem. We must read Carbanthas best friend Sloane told his real problem she took her traces great story. A percomano multical stubborn community with Christian and Beauria.  Their new voice on the shelp thats horribly young. He never knew see what he is Martez Major do with the bachelors and came out but I'm looking forward to reading holfs of personal trainlics they and what happened next.  This is sleet and get it...I think I was getting your all magi mold in Nelly Ribert constant gorgeous and honesty tThe books in this book, whey all seemed to be in the minutiful size.  I enjoyed the book even because you  did and with the HEAith her compare story very good read. I'd read a los of books before they are never really hown to give this book some.  I got hook fooling aliving the different mindset my work from the maravillage in the past as he doesn't want to share an angel to Jordansic? Can, sleeps off the outside, but she'd go away for me. I look forward to reading her attention and afraid that I head of watching up some part 2-to fattoe worthy; holding me in repetition. To very enjoyable reader and the case in it.  If you read Book 1, D&N'AE Knight is Vil. This is definitely an actually romance,  \"expectation\". Would I believe their mom. The story is about what comes and you are at least donor forties they discusse a long.  Detective/girl doesn't have time to get him the ted would of been behind his life to play - a scene to stay up upon her premise the Wido seek several own heads.  Brim and The book boyfriends, who do not allow anyone brief a dream who were better. This guide together the power is supposed to make these characters that less the so that the couple do they find themselves, letting Over Carniver. And she carries him.  She hasn't really put it along with her. But she is supposed to be possibly his first line. It was still the good journey of it every time I read the person who love it. the sexual stefps to the story much, and everything they can complex number of the effort and turned into a human being said everyone else for started onton a person abound and is no excract on the courtroom school soul & held immediately.  I did go ahead of the way that Caring- mine isn't really good to her family. He is also low carbs, and how the author turns her upcoming girl in the matire when hes hot along with his team in the short series, but still melbs.READS. But loving, and pleasure of love. But as always, you need in Yerrigoth faiding. The book set is anticipating and standThe book sing richly leading debtures of spelling era and team meddling. Michael is a little acceding on her. When he does see why he is a trim and self-published. Beautiful Steffaumosies are human and calls into more emphasies. al definitely on present time. If I could Valelee to re describe their heat. Or how she were speaking the ultimate father is growing drawn to her time, thanks forever. We never smile to Las Vegails of Elizabeth Germany  Conscience is about is, their troubles after sex with Penelona and who hit their own.  Will SEOZEL  by different from Running for a marriage in 1500 and Marchemer. Will her from many grown up ex-home B/m. Question wrote Elizabeth.  Lilly is the important conversation as motivated up to her family.  I loved R.AL. He's a bit more but, or hello. Loved the way they share during the highly hugue RID DBFH. Well uses these od quite I haven't read books of life! The characters develop herself better to admit it Logan walks in love for 201 persiots of our hero, \n"
          ],
          "name": "stdout"
        }
      ]
    }
  ]
}