{
  "nbformat": 4,
  "nbformat_minor": 0,
  "metadata": {
    "colab": {
      "name": "text_classification.ipynb",
      "provenance": [],
      "collapsed_sections": []
    },
    "kernelspec": {
      "name": "python3",
      "display_name": "Python 3"
    },
    "accelerator": "TPU"
  },
  "cells": [
    {
      "cell_type": "markdown",
      "metadata": {
        "id": "hSvD_iYvJaut"
      },
      "source": [
        "# Sentiment Analysis of Amazon Product Reviews"
      ]
    },
    {
      "cell_type": "markdown",
      "metadata": {
        "id": "IeMt2A2ZqeDb"
      },
      "source": [
        "### Import libraries and download data"
      ]
    },
    {
      "cell_type": "code",
      "metadata": {
        "id": "f5NDXrN2CtH7"
      },
      "source": [
        "import os\n",
        "import json\n",
        "import gzip\n",
        "from urllib.request import urlopen\n",
        "import numpy as np\n",
        "import pandas as pd\n",
        "import random\n",
        "import string\n",
        "import nltk\n",
        "from nltk.tokenize import WhitespaceTokenizer\n",
        "from nltk.corpus import stopwords\n",
        "from nltk import classify\n",
        "from nltk import NaiveBayesClassifier\n",
        "import string\n",
        "import re\n",
        "import itertools"
      ],
      "execution_count": 2,
      "outputs": []
    },
    {
      "cell_type": "code",
      "metadata": {
        "id": "1yzz1aZKXZ5n",
        "colab": {
          "base_uri": "https://localhost:8080/"
        },
        "outputId": "35de6958-1f4f-4d5b-d2f9-292206b6be13"
      },
      "source": [
        "from google.colab import drive\n",
        "drive.mount('/content/drive')"
      ],
      "execution_count": 3,
      "outputs": [
        {
          "output_type": "stream",
          "text": [
            "Mounted at /content/drive\n"
          ],
          "name": "stdout"
        }
      ]
    },
    {
      "cell_type": "code",
      "metadata": {
        "id": "WqZcdGp-5cui",
        "colab": {
          "base_uri": "https://localhost:8080/"
        },
        "outputId": "9fb727e5-1d83-4aa0-fa2d-0a25e78c3406"
      },
      "source": [
        "!wget http://deepyeti.ucsd.edu/jianmo/amazon/categoryFilesSmall/Kindle_Store_5.json.gz"
      ],
      "execution_count": 6,
      "outputs": [
        {
          "output_type": "stream",
          "text": [
            "--2021-08-16 16:03:53--  http://deepyeti.ucsd.edu/jianmo/amazon/categoryFilesSmall/Kindle_Store_5.json.gz\n",
            "Resolving deepyeti.ucsd.edu (deepyeti.ucsd.edu)... 169.228.63.50\n",
            "Connecting to deepyeti.ucsd.edu (deepyeti.ucsd.edu)|169.228.63.50|:80... connected.\n",
            "HTTP request sent, awaiting response... 200 OK\n",
            "Length: 538673481 (514M) [application/octet-stream]\n",
            "Saving to: ‘Kindle_Store_5.json.gz’\n",
            "\n",
            "Kindle_Store_5.json 100%[===================>] 513.72M  56.1MB/s    in 9.8s    \n",
            "\n",
            "2021-08-16 16:04:03 (52.6 MB/s) - ‘Kindle_Store_5.json.gz’ saved [538673481/538673481]\n",
            "\n"
          ],
          "name": "stdout"
        }
      ]
    },
    {
      "cell_type": "code",
      "metadata": {
        "id": "4UYSHLUAhFHd",
        "colab": {
          "base_uri": "https://localhost:8080/"
        },
        "outputId": "4903f9f7-e00b-46e8-da8e-07926fc65931"
      },
      "source": [
        "# load the data\n",
        "data = []\n",
        "with gzip.open('Kindle_Store_5.json.gz') as f:\n",
        "    for l in f:\n",
        "        data.append(json.loads(l.strip()))\n",
        "# total length of list, this number equals total number of products\n",
        "print(len(data))\n",
        "# first row of the list\n",
        "print(data[0])"
      ],
      "execution_count": 7,
      "outputs": [
        {
          "output_type": "stream",
          "text": [
            "2222983\n",
            "{'overall': 4.0, 'verified': True, 'reviewTime': '07 3, 2014', 'reviewerID': 'A2LSKD2H9U8N0J', 'asin': 'B000FA5KK0', 'style': {'Format:': ' Kindle Edition'}, 'reviewerName': 'sandra sue marsolek', 'reviewText': 'pretty good story, a little exaggerated, but I liked it pretty well.  liked the characters, the plot..it had mystery, action, love, all of the main things. I think most western lovers would injoy this book', 'summary': 'pretty good story', 'unixReviewTime': 1404345600}\n"
          ],
          "name": "stdout"
        }
      ]
    },
    {
      "cell_type": "code",
      "metadata": {
        "id": "-8mOrdlkhLG2",
        "colab": {
          "base_uri": "https://localhost:8080/"
        },
        "outputId": "04a9d19c-c1d0-4495-d5ce-3ecc8bc256c6"
      },
      "source": [
        "# convert list into pandas dataframe\n",
        "df = pd.DataFrame.from_dict(data)\n",
        "print(len(df))"
      ],
      "execution_count": 8,
      "outputs": [
        {
          "output_type": "stream",
          "text": [
            "2222983\n"
          ],
          "name": "stdout"
        }
      ]
    },
    {
      "cell_type": "code",
      "metadata": {
        "colab": {
          "base_uri": "https://localhost:8080/",
          "height": 204
        },
        "id": "xwysFfQe-xB8",
        "outputId": "bf167386-de2c-449d-fd1f-2f66cdcc08da"
      },
      "source": [
        "# create a new df with only necessary columns\n",
        "new_df = df[['overall','reviewText']].copy()\n",
        "new_df.head()"
      ],
      "execution_count": 9,
      "outputs": [
        {
          "output_type": "execute_result",
          "data": {
            "text/html": [
              "<div>\n",
              "<style scoped>\n",
              "    .dataframe tbody tr th:only-of-type {\n",
              "        vertical-align: middle;\n",
              "    }\n",
              "\n",
              "    .dataframe tbody tr th {\n",
              "        vertical-align: top;\n",
              "    }\n",
              "\n",
              "    .dataframe thead th {\n",
              "        text-align: right;\n",
              "    }\n",
              "</style>\n",
              "<table border=\"1\" class=\"dataframe\">\n",
              "  <thead>\n",
              "    <tr style=\"text-align: right;\">\n",
              "      <th></th>\n",
              "      <th>overall</th>\n",
              "      <th>reviewText</th>\n",
              "    </tr>\n",
              "  </thead>\n",
              "  <tbody>\n",
              "    <tr>\n",
              "      <th>0</th>\n",
              "      <td>4.0</td>\n",
              "      <td>pretty good story, a little exaggerated, but I...</td>\n",
              "    </tr>\n",
              "    <tr>\n",
              "      <th>1</th>\n",
              "      <td>5.0</td>\n",
              "      <td>If you've read other max brand westerns, you k...</td>\n",
              "    </tr>\n",
              "    <tr>\n",
              "      <th>2</th>\n",
              "      <td>5.0</td>\n",
              "      <td>Love Max, always a fun twist</td>\n",
              "    </tr>\n",
              "    <tr>\n",
              "      <th>3</th>\n",
              "      <td>5.0</td>\n",
              "      <td>As usual for him, a good book</td>\n",
              "    </tr>\n",
              "    <tr>\n",
              "      <th>4</th>\n",
              "      <td>5.0</td>\n",
              "      <td>MB is one of the original western writers and ...</td>\n",
              "    </tr>\n",
              "  </tbody>\n",
              "</table>\n",
              "</div>"
            ],
            "text/plain": [
              "   overall                                         reviewText\n",
              "0      4.0  pretty good story, a little exaggerated, but I...\n",
              "1      5.0  If you've read other max brand westerns, you k...\n",
              "2      5.0                       Love Max, always a fun twist\n",
              "3      5.0                      As usual for him, a good book\n",
              "4      5.0  MB is one of the original western writers and ..."
            ]
          },
          "metadata": {
            "tags": []
          },
          "execution_count": 9
        }
      ]
    },
    {
      "cell_type": "code",
      "metadata": {
        "id": "HDX7aja1_AoI"
      },
      "source": [
        "# split df into positive and negative reviews based on the overall star rating. \n",
        "#omitting 3 stars as they could be either + or -\n",
        "pos_reviews = new_df.loc[new_df['overall'] > 3]\n",
        "neg_reviews = new_df.loc[new_df['overall'] < 3]"
      ],
      "execution_count": 10,
      "outputs": []
    },
    {
      "cell_type": "code",
      "metadata": {
        "colab": {
          "base_uri": "https://localhost:8080/",
          "height": 204
        },
        "id": "3KDlF-F5_drM",
        "outputId": "03d5eb47-a05f-4605-d8da-91e025588639"
      },
      "source": [
        "# add column to label review type and combine df back to one \n",
        "pos_reviews.insert(2, 'reaction', 'positive')\n",
        "neg_reviews.insert(2, 'reaction', 'negative')\n",
        "\n",
        "all_reviews = pd.concat([pos_reviews, neg_reviews], ignore_index=True)\n",
        "all_reviews.head()"
      ],
      "execution_count": 11,
      "outputs": [
        {
          "output_type": "execute_result",
          "data": {
            "text/html": [
              "<div>\n",
              "<style scoped>\n",
              "    .dataframe tbody tr th:only-of-type {\n",
              "        vertical-align: middle;\n",
              "    }\n",
              "\n",
              "    .dataframe tbody tr th {\n",
              "        vertical-align: top;\n",
              "    }\n",
              "\n",
              "    .dataframe thead th {\n",
              "        text-align: right;\n",
              "    }\n",
              "</style>\n",
              "<table border=\"1\" class=\"dataframe\">\n",
              "  <thead>\n",
              "    <tr style=\"text-align: right;\">\n",
              "      <th></th>\n",
              "      <th>overall</th>\n",
              "      <th>reviewText</th>\n",
              "      <th>reaction</th>\n",
              "    </tr>\n",
              "  </thead>\n",
              "  <tbody>\n",
              "    <tr>\n",
              "      <th>0</th>\n",
              "      <td>4.0</td>\n",
              "      <td>pretty good story, a little exaggerated, but I...</td>\n",
              "      <td>positive</td>\n",
              "    </tr>\n",
              "    <tr>\n",
              "      <th>1</th>\n",
              "      <td>5.0</td>\n",
              "      <td>If you've read other max brand westerns, you k...</td>\n",
              "      <td>positive</td>\n",
              "    </tr>\n",
              "    <tr>\n",
              "      <th>2</th>\n",
              "      <td>5.0</td>\n",
              "      <td>Love Max, always a fun twist</td>\n",
              "      <td>positive</td>\n",
              "    </tr>\n",
              "    <tr>\n",
              "      <th>3</th>\n",
              "      <td>5.0</td>\n",
              "      <td>As usual for him, a good book</td>\n",
              "      <td>positive</td>\n",
              "    </tr>\n",
              "    <tr>\n",
              "      <th>4</th>\n",
              "      <td>5.0</td>\n",
              "      <td>MB is one of the original western writers and ...</td>\n",
              "      <td>positive</td>\n",
              "    </tr>\n",
              "  </tbody>\n",
              "</table>\n",
              "</div>"
            ],
            "text/plain": [
              "   overall                                         reviewText  reaction\n",
              "0      4.0  pretty good story, a little exaggerated, but I...  positive\n",
              "1      5.0  If you've read other max brand westerns, you k...  positive\n",
              "2      5.0                       Love Max, always a fun twist  positive\n",
              "3      5.0                      As usual for him, a good book  positive\n",
              "4      5.0  MB is one of the original western writers and ...  positive"
            ]
          },
          "metadata": {
            "tags": []
          },
          "execution_count": 11
        }
      ]
    },
    {
      "cell_type": "code",
      "metadata": {
        "colab": {
          "base_uri": "https://localhost:8080/"
        },
        "id": "zm_tmaCH_-Ew",
        "outputId": "8b9c6554-9fe0-4a7b-a6dc-427fa9713950"
      },
      "source": [
        "# remove reviews that do not contain text\n",
        "all_reviews['reviewText'].isnull().sum()\n",
        "reviews = all_reviews[all_reviews['reviewText'].notna()]\n",
        "reviews.info()"
      ],
      "execution_count": 12,
      "outputs": [
        {
          "output_type": "stream",
          "text": [
            "<class 'pandas.core.frame.DataFrame'>\n",
            "Int64Index: 2024661 entries, 0 to 2025033\n",
            "Data columns (total 3 columns):\n",
            " #   Column      Dtype  \n",
            "---  ------      -----  \n",
            " 0   overall     float64\n",
            " 1   reviewText  object \n",
            " 2   reaction    object \n",
            "dtypes: float64(1), object(2)\n",
            "memory usage: 61.8+ MB\n"
          ],
          "name": "stdout"
        }
      ]
    },
    {
      "cell_type": "code",
      "metadata": {
        "colab": {
          "base_uri": "https://localhost:8080/"
        },
        "id": "oAE95zDcAkTC",
        "outputId": "066de585-9ad0-48fc-dc1e-0e8762913e88"
      },
      "source": [
        "# create a sample df with equal number of + and - reviews \n",
        "sample_df = reviews.groupby('reaction').apply(lambda x: x.sample(n=10000)).reset_index(drop = True)\n",
        "sample_df['reaction'].value_counts()"
      ],
      "execution_count": 13,
      "outputs": [
        {
          "output_type": "execute_result",
          "data": {
            "text/plain": [
              "negative    10000\n",
              "positive    10000\n",
              "Name: reaction, dtype: int64"
            ]
          },
          "metadata": {
            "tags": []
          },
          "execution_count": 13
        }
      ]
    },
    {
      "cell_type": "code",
      "metadata": {
        "id": "DsrbaIuID5JU"
      },
      "source": [
        "# create lists of + and - reviews from the sample df\n",
        "pos_df = sample_df.loc[sample_df['reaction'] == 'positive']\n",
        "pos_list = pos_df['reviewText'].tolist()\n",
        "\n",
        "neg_df = sample_df.loc[sample_df['reaction'] == 'negative']\n",
        "neg_list = neg_df['reviewText'].tolist()"
      ],
      "execution_count": 14,
      "outputs": []
    },
    {
      "cell_type": "code",
      "metadata": {
        "colab": {
          "base_uri": "https://localhost:8080/"
        },
        "id": "21Zc95EeEBpM",
        "outputId": "08830d7a-3a2e-4817-e582-790db2bee98c"
      },
      "source": [
        "# clean the lists (make all lowercase, convert to strings, and remove punctuation)\n",
        "pos_list_lowered = [word.lower() for word in pos_list]\n",
        "neg_list_lowered = [word.lower() for word in neg_list]\n",
        "\n",
        "pos_list_to_string = ' '.join([str(elem) for elem in pos_list_lowered]) \n",
        "neg_list_to_string = ' '.join([str(elem) for elem in neg_list_lowered])\n",
        "\n",
        "nltk.download('stopwords')\n",
        "\n",
        "stop = set(stopwords.words('english') + list(string.punctuation))\n",
        "\n",
        "tokenizer = WhitespaceTokenizer()\n",
        "\n",
        "filtered_pos_list1 = [w for w in tokenizer.tokenize(pos_list_to_string) if w not in stop]\n",
        "filtered_pos_list = [w.strip(string.punctuation) for w in filtered_pos_list1]\n",
        "\n",
        "filtered_neg_list1 = [w for w in tokenizer.tokenize(neg_list_to_string) if w not in stop]\n",
        "filtered_neg_list = [w.strip(string.punctuation) for w in filtered_neg_list1]"
      ],
      "execution_count": 15,
      "outputs": [
        {
          "output_type": "stream",
          "text": [
            "[nltk_data] Downloading package stopwords to /root/nltk_data...\n",
            "[nltk_data]   Unzipping corpora/stopwords.zip.\n"
          ],
          "name": "stdout"
        }
      ]
    },
    {
      "cell_type": "code",
      "metadata": {
        "colab": {
          "base_uri": "https://localhost:8080/"
        },
        "id": "b8KI9Nk9El_F",
        "outputId": "a2489101-dd5a-459b-c688-05564011b8bc"
      },
      "source": [
        "# view the frequency distribution of the most common + and - words\n",
        "freq_dist_pos = nltk.FreqDist(filtered_pos_list)\n",
        "freq_dist_neg = nltk.FreqDist(filtered_neg_list)\n",
        "\n",
        "print(freq_dist_pos.most_common(15))\n",
        "print(freq_dist_neg.most_common(15))"
      ],
      "execution_count": 16,
      "outputs": [
        {
          "output_type": "stream",
          "text": [
            "[('book', 10650), ('story', 6351), ('read', 6051), ('love', 4798), ('one', 4074), ('series', 3762), ('characters', 2850), ('great', 2790), ('good', 2756), ('like', 2605), ('really', 2578), ('books', 2299), ('loved', 2297), ('well', 2141), ('reading', 2089)]\n",
            "[('book', 10976), ('story', 6168), ('like', 4669), ('read', 4611), ('one', 4128), ('would', 3127), ('really', 3069), ('author', 2657), ('characters', 2622), ('get', 2569), ('it', 2449), ('good', 2441), ('even', 2258), ('time', 2248), ('books', 2227)]\n"
          ],
          "name": "stdout"
        }
      ]
    },
    {
      "cell_type": "code",
      "metadata": {
        "id": "Gl5uAMkJFLWd"
      },
      "source": [
        "# convert the sets of words to feature sets\n",
        "def word_features(words):\n",
        "    return dict([(word, True) for word in words.split()])"
      ],
      "execution_count": 17,
      "outputs": []
    },
    {
      "cell_type": "code",
      "metadata": {
        "id": "Z4prjqjRGcQR"
      },
      "source": [
        "# combine into one set for training and testing\n",
        "positive_features = [(word_features(f), 'pos') for f in filtered_pos_list]\n",
        "negative_features = [(word_features(f), 'neg') for f in filtered_neg_list]\n",
        "labeledwords = positive_features + negative_features"
      ],
      "execution_count": 18,
      "outputs": []
    },
    {
      "cell_type": "code",
      "metadata": {
        "id": "CuIgK68SGgHN"
      },
      "source": [
        "# shuffle the words and train and test the model\n",
        "random.shuffle(labeledwords)\n",
        "train_set, test_set = labeledwords[2000:], labeledwords[:500]\n",
        "classifier = nltk.NaiveBayesClassifier.train(train_set)"
      ],
      "execution_count": 19,
      "outputs": []
    },
    {
      "cell_type": "code",
      "metadata": {
        "colab": {
          "base_uri": "https://localhost:8080/"
        },
        "id": "pP9Ag8H-GlgT",
        "outputId": "77371349-48dd-4cca-943d-7e36f017f553"
      },
      "source": [
        "# test the model w examples\n",
        "print(classifier.classify(word_features('I loved this book, the story was great')))\n",
        "print(classifier.classify(word_features('I did not like this book, the characters were bland')))"
      ],
      "execution_count": 21,
      "outputs": [
        {
          "output_type": "stream",
          "text": [
            "pos\n",
            "neg\n"
          ],
          "name": "stdout"
        }
      ]
    },
    {
      "cell_type": "code",
      "metadata": {
        "colab": {
          "base_uri": "https://localhost:8080/"
        },
        "id": "npOjIBnuHofw",
        "outputId": "66dd2477-485c-4671-b381-69b757248530"
      },
      "source": [
        "# calculate the accuracy of the model\n",
        "print(nltk.classify.accuracy(classifier, test_set))"
      ],
      "execution_count": 22,
      "outputs": [
        {
          "output_type": "stream",
          "text": [
            "0.616\n"
          ],
          "name": "stdout"
        }
      ]
    },
    {
      "cell_type": "code",
      "metadata": {
        "colab": {
          "base_uri": "https://localhost:8080/"
        },
        "id": "h0sTKzOBHo2q",
        "outputId": "0732494b-f771-4041-cc4b-f69d2889a862"
      },
      "source": [
        "# show the model's most informative features from the set\n",
        "classifier.show_most_informative_features(15)"
      ],
      "execution_count": 37,
      "outputs": [
        {
          "output_type": "stream",
          "text": [
            "Most Informative Features\n",
            "                 deleted = True              neg : pos    =     69.7 : 1.0\n",
            "                 stilted = True              neg : pos    =     47.1 : 1.0\n",
            "                  wasted = True              neg : pos    =     45.6 : 1.0\n",
            "             wonderfully = True              pos : neg    =     40.4 : 1.0\n",
            "                   waste = True              neg : pos    =     39.8 : 1.0\n",
            "                    lame = True              neg : pos    =     39.5 : 1.0\n",
            "                  poorly = True              neg : pos    =     36.8 : 1.0\n",
            "         inconsistencies = True              neg : pos    =     30.6 : 1.0\n",
            "                 hotness = True              pos : neg    =     26.8 : 1.0\n",
            "                     2.5 = True              neg : pos    =     25.8 : 1.0\n",
            "            heartwarming = True              pos : neg    =     25.6 : 1.0\n",
            "                    neve = True              pos : neg    =     25.6 : 1.0\n",
            "                   trite = True              neg : pos    =     25.1 : 1.0\n",
            "                    toes = True              pos : neg    =     24.9 : 1.0\n",
            "                skimming = True              neg : pos    =     24.6 : 1.0\n"
          ],
          "name": "stdout"
        }
      ]
    },
    {
      "cell_type": "markdown",
      "metadata": {
        "id": "VygptUI5JRVX"
      },
      "source": [
        "# Classify generated product reviews"
      ]
    },
    {
      "cell_type": "code",
      "metadata": {
        "id": "w3-Gn0-sX2qw"
      },
      "source": [
        "path_to_file = '/content/drive/MyDrive/Colab Notebooks/edited_words.txt'\n",
        "example = open(path_to_file, 'rb').read().decode(encoding='utf-8')\n",
        "example = example.replace('\\n', ' ')\n",
        "ex_str = str(example)\n",
        "ex_arr = ex_str.split(\"\\\"\")"
      ],
      "execution_count": 35,
      "outputs": []
    },
    {
      "cell_type": "code",
      "metadata": {
        "colab": {
          "base_uri": "https://localhost:8080/"
        },
        "id": "ZQ1SoHzoZJkT",
        "outputId": "41b55631-caf4-4429-b918-2cf164571521"
      },
      "source": [
        "n = 1\n",
        "for i in ex_arr:\n",
        "  print(\"Review \", n, \":\", classifier.classify(word_features(i)))\n",
        "  n = n+1"
      ],
      "execution_count": 36,
      "outputs": [
        {
          "output_type": "stream",
          "text": [
            "Review  1 : pos\n",
            "Review  2 : pos\n",
            "Review  3 : neg\n",
            "Review  4 : neg\n",
            "Review  5 : neg\n",
            "Review  6 : pos\n",
            "Review  7 : neg\n",
            "Review  8 : neg\n",
            "Review  9 : neg\n",
            "Review  10 : pos\n"
          ],
          "name": "stdout"
        }
      ]
    }
  ]
}