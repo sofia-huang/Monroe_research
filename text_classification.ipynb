{
  "nbformat": 4,
  "nbformat_minor": 0,
  "metadata": {
    "colab": {
      "name": "text_classification.ipynb",
      "provenance": [],
      "collapsed_sections": []
    },
    "kernelspec": {
      "name": "python3",
      "display_name": "Python 3"
    },
    "accelerator": "GPU"
  },
  "cells": [
    {
      "cell_type": "markdown",
      "metadata": {
        "id": "hSvD_iYvJaut"
      },
      "source": [
        "# Sentiment Analysis of Amazon Product Reviews"
      ]
    },
    {
      "cell_type": "markdown",
      "metadata": {
        "id": "IeMt2A2ZqeDb"
      },
      "source": [
        "## Import libraries and download data"
      ]
    },
    {
      "cell_type": "code",
      "metadata": {
        "id": "f5NDXrN2CtH7"
      },
      "source": [
        "import os\n",
        "import json\n",
        "import gzip\n",
        "from urllib.request import urlopen\n",
        "import numpy as np\n",
        "import pandas as pd\n",
        "import random\n",
        "import string\n",
        "import nltk\n",
        "from nltk.tokenize import WhitespaceTokenizer\n",
        "from nltk.corpus import stopwords\n",
        "from nltk import classify\n",
        "from nltk import NaiveBayesClassifier\n",
        "import string\n",
        "import re\n",
        "import itertools"
      ],
      "execution_count": 1,
      "outputs": []
    },
    {
      "cell_type": "code",
      "metadata": {
        "id": "1yzz1aZKXZ5n",
        "colab": {
          "base_uri": "https://localhost:8080/"
        },
        "outputId": "c699f296-b778-402d-8847-c2065b9db55e"
      },
      "source": [
        "from google.colab import drive\n",
        "drive.mount('/content/drive')"
      ],
      "execution_count": 2,
      "outputs": [
        {
          "output_type": "stream",
          "text": [
            "Mounted at /content/drive\n"
          ],
          "name": "stdout"
        }
      ]
    },
    {
      "cell_type": "code",
      "metadata": {
        "id": "WqZcdGp-5cui",
        "colab": {
          "base_uri": "https://localhost:8080/"
        },
        "outputId": "d7560755-8752-4573-86dd-3470c4ba2f12"
      },
      "source": [
        "!wget http://deepyeti.ucsd.edu/jianmo/amazon/categoryFilesSmall/Kindle_Store_5.json.gz"
      ],
      "execution_count": 2,
      "outputs": [
        {
          "output_type": "stream",
          "text": [
            "--2021-08-19 22:13:08--  http://deepyeti.ucsd.edu/jianmo/amazon/categoryFilesSmall/Kindle_Store_5.json.gz\n",
            "Resolving deepyeti.ucsd.edu (deepyeti.ucsd.edu)... 169.228.63.50\n",
            "Connecting to deepyeti.ucsd.edu (deepyeti.ucsd.edu)|169.228.63.50|:80... connected.\n",
            "HTTP request sent, awaiting response... 200 OK\n",
            "Length: 538673481 (514M) [application/octet-stream]\n",
            "Saving to: ‘Kindle_Store_5.json.gz.1’\n",
            "\n",
            "Kindle_Store_5.json 100%[===================>] 513.72M  20.9MB/s    in 25s     \n",
            "\n",
            "2021-08-19 22:13:33 (20.4 MB/s) - ‘Kindle_Store_5.json.gz.1’ saved [538673481/538673481]\n",
            "\n"
          ],
          "name": "stdout"
        }
      ]
    },
    {
      "cell_type": "code",
      "metadata": {
        "id": "4UYSHLUAhFHd",
        "colab": {
          "base_uri": "https://localhost:8080/"
        },
        "outputId": "e752f04a-c230-47f8-8e9f-1ce31528b13b"
      },
      "source": [
        "# load the data\n",
        "data = []\n",
        "with gzip.open('Kindle_Store_5.json.gz') as f:\n",
        "    for l in f:\n",
        "        data.append(json.loads(l.strip()))\n",
        "# total length of list, this number equals total number of products\n",
        "print(len(data))\n",
        "# first row of the list\n",
        "print(data[0])"
      ],
      "execution_count": 3,
      "outputs": [
        {
          "output_type": "stream",
          "text": [
            "2222983\n",
            "{'overall': 4.0, 'verified': True, 'reviewTime': '07 3, 2014', 'reviewerID': 'A2LSKD2H9U8N0J', 'asin': 'B000FA5KK0', 'style': {'Format:': ' Kindle Edition'}, 'reviewerName': 'sandra sue marsolek', 'reviewText': 'pretty good story, a little exaggerated, but I liked it pretty well.  liked the characters, the plot..it had mystery, action, love, all of the main things. I think most western lovers would injoy this book', 'summary': 'pretty good story', 'unixReviewTime': 1404345600}\n"
          ],
          "name": "stdout"
        }
      ]
    },
    {
      "cell_type": "markdown",
      "metadata": {
        "id": "MB9InU-sGTYQ"
      },
      "source": [
        "##Preprocess data"
      ]
    },
    {
      "cell_type": "code",
      "metadata": {
        "id": "-8mOrdlkhLG2",
        "colab": {
          "base_uri": "https://localhost:8080/"
        },
        "outputId": "65aa5083-ee90-476e-ca80-084f8a0256de"
      },
      "source": [
        "# convert list into pandas dataframe\n",
        "df = pd.DataFrame.from_dict(data)\n",
        "print(len(df))"
      ],
      "execution_count": 4,
      "outputs": [
        {
          "output_type": "stream",
          "text": [
            "2222983\n"
          ],
          "name": "stdout"
        }
      ]
    },
    {
      "cell_type": "code",
      "metadata": {
        "id": "8biiV41xe8Wj"
      },
      "source": [
        "# save df to drive\n",
        "df.to_csv('/content/drive/MyDrive/Colab Notebooks/res_df.csv')"
      ],
      "execution_count": 5,
      "outputs": []
    },
    {
      "cell_type": "code",
      "metadata": {
        "id": "aMGUDO5AGcy-",
        "outputId": "3ef6c0aa-ff86-40f4-fa18-8d2ce798f839",
        "colab": {
          "base_uri": "https://localhost:8080/",
          "height": 462
        }
      },
      "source": [
        "df.head()"
      ],
      "execution_count": 7,
      "outputs": [
        {
          "output_type": "execute_result",
          "data": {
            "text/html": [
              "<div>\n",
              "<style scoped>\n",
              "    .dataframe tbody tr th:only-of-type {\n",
              "        vertical-align: middle;\n",
              "    }\n",
              "\n",
              "    .dataframe tbody tr th {\n",
              "        vertical-align: top;\n",
              "    }\n",
              "\n",
              "    .dataframe thead th {\n",
              "        text-align: right;\n",
              "    }\n",
              "</style>\n",
              "<table border=\"1\" class=\"dataframe\">\n",
              "  <thead>\n",
              "    <tr style=\"text-align: right;\">\n",
              "      <th></th>\n",
              "      <th>overall</th>\n",
              "      <th>verified</th>\n",
              "      <th>reviewTime</th>\n",
              "      <th>reviewerID</th>\n",
              "      <th>asin</th>\n",
              "      <th>style</th>\n",
              "      <th>reviewerName</th>\n",
              "      <th>reviewText</th>\n",
              "      <th>summary</th>\n",
              "      <th>unixReviewTime</th>\n",
              "      <th>vote</th>\n",
              "      <th>image</th>\n",
              "    </tr>\n",
              "  </thead>\n",
              "  <tbody>\n",
              "    <tr>\n",
              "      <th>0</th>\n",
              "      <td>4.0</td>\n",
              "      <td>True</td>\n",
              "      <td>07 3, 2014</td>\n",
              "      <td>A2LSKD2H9U8N0J</td>\n",
              "      <td>B000FA5KK0</td>\n",
              "      <td>{'Format:': ' Kindle Edition'}</td>\n",
              "      <td>sandra sue marsolek</td>\n",
              "      <td>pretty good story, a little exaggerated, but I...</td>\n",
              "      <td>pretty good story</td>\n",
              "      <td>1404345600</td>\n",
              "      <td>NaN</td>\n",
              "      <td>NaN</td>\n",
              "    </tr>\n",
              "    <tr>\n",
              "      <th>1</th>\n",
              "      <td>5.0</td>\n",
              "      <td>True</td>\n",
              "      <td>05 26, 2014</td>\n",
              "      <td>A2QP13XTJND1QS</td>\n",
              "      <td>B000FA5KK0</td>\n",
              "      <td>{'Format:': ' Kindle Edition'}</td>\n",
              "      <td>Tpl</td>\n",
              "      <td>If you've read other max brand westerns, you k...</td>\n",
              "      <td>A very good book</td>\n",
              "      <td>1401062400</td>\n",
              "      <td>NaN</td>\n",
              "      <td>NaN</td>\n",
              "    </tr>\n",
              "    <tr>\n",
              "      <th>2</th>\n",
              "      <td>5.0</td>\n",
              "      <td>True</td>\n",
              "      <td>09 16, 2016</td>\n",
              "      <td>A8WQ7MAG3HFOZ</td>\n",
              "      <td>B000FA5KK0</td>\n",
              "      <td>{'Format:': ' Kindle Edition'}</td>\n",
              "      <td>Alverne F. Anderson</td>\n",
              "      <td>Love Max, always a fun twist</td>\n",
              "      <td>Five Stars</td>\n",
              "      <td>1473984000</td>\n",
              "      <td>NaN</td>\n",
              "      <td>NaN</td>\n",
              "    </tr>\n",
              "    <tr>\n",
              "      <th>3</th>\n",
              "      <td>5.0</td>\n",
              "      <td>True</td>\n",
              "      <td>03 3, 2016</td>\n",
              "      <td>A1E0MODSRYP7O</td>\n",
              "      <td>B000FA5KK0</td>\n",
              "      <td>{'Format:': ' Kindle Edition'}</td>\n",
              "      <td>Jeff</td>\n",
              "      <td>As usual for him, a good book</td>\n",
              "      <td>a good</td>\n",
              "      <td>1456963200</td>\n",
              "      <td>NaN</td>\n",
              "      <td>NaN</td>\n",
              "    </tr>\n",
              "    <tr>\n",
              "      <th>4</th>\n",
              "      <td>5.0</td>\n",
              "      <td>True</td>\n",
              "      <td>09 10, 2015</td>\n",
              "      <td>AYUTCGVSM1H7T</td>\n",
              "      <td>B000FA5KK0</td>\n",
              "      <td>{'Format:': ' Kindle Edition'}</td>\n",
              "      <td>DEHS - EddyRapcon</td>\n",
              "      <td>MB is one of the original western writers and ...</td>\n",
              "      <td>A Western</td>\n",
              "      <td>1441843200</td>\n",
              "      <td>2</td>\n",
              "      <td>NaN</td>\n",
              "    </tr>\n",
              "  </tbody>\n",
              "</table>\n",
              "</div>"
            ],
            "text/plain": [
              "   overall  verified   reviewTime  ... unixReviewTime vote image\n",
              "0      4.0      True   07 3, 2014  ...     1404345600  NaN   NaN\n",
              "1      5.0      True  05 26, 2014  ...     1401062400  NaN   NaN\n",
              "2      5.0      True  09 16, 2016  ...     1473984000  NaN   NaN\n",
              "3      5.0      True   03 3, 2016  ...     1456963200  NaN   NaN\n",
              "4      5.0      True  09 10, 2015  ...     1441843200    2   NaN\n",
              "\n",
              "[5 rows x 12 columns]"
            ]
          },
          "metadata": {
            "tags": []
          },
          "execution_count": 7
        }
      ]
    },
    {
      "cell_type": "code",
      "metadata": {
        "colab": {
          "base_uri": "https://localhost:8080/",
          "height": 204
        },
        "id": "xwysFfQe-xB8",
        "outputId": "37272d26-c6ac-46af-e3ce-7a59cc45efe9"
      },
      "source": [
        "# create a new df with only necessary columns\n",
        "new_df = df[['overall','reviewText']].copy()\n",
        "new_df.head()"
      ],
      "execution_count": 5,
      "outputs": [
        {
          "output_type": "execute_result",
          "data": {
            "text/html": [
              "<div>\n",
              "<style scoped>\n",
              "    .dataframe tbody tr th:only-of-type {\n",
              "        vertical-align: middle;\n",
              "    }\n",
              "\n",
              "    .dataframe tbody tr th {\n",
              "        vertical-align: top;\n",
              "    }\n",
              "\n",
              "    .dataframe thead th {\n",
              "        text-align: right;\n",
              "    }\n",
              "</style>\n",
              "<table border=\"1\" class=\"dataframe\">\n",
              "  <thead>\n",
              "    <tr style=\"text-align: right;\">\n",
              "      <th></th>\n",
              "      <th>overall</th>\n",
              "      <th>reviewText</th>\n",
              "    </tr>\n",
              "  </thead>\n",
              "  <tbody>\n",
              "    <tr>\n",
              "      <th>0</th>\n",
              "      <td>4.0</td>\n",
              "      <td>pretty good story, a little exaggerated, but I...</td>\n",
              "    </tr>\n",
              "    <tr>\n",
              "      <th>1</th>\n",
              "      <td>5.0</td>\n",
              "      <td>If you've read other max brand westerns, you k...</td>\n",
              "    </tr>\n",
              "    <tr>\n",
              "      <th>2</th>\n",
              "      <td>5.0</td>\n",
              "      <td>Love Max, always a fun twist</td>\n",
              "    </tr>\n",
              "    <tr>\n",
              "      <th>3</th>\n",
              "      <td>5.0</td>\n",
              "      <td>As usual for him, a good book</td>\n",
              "    </tr>\n",
              "    <tr>\n",
              "      <th>4</th>\n",
              "      <td>5.0</td>\n",
              "      <td>MB is one of the original western writers and ...</td>\n",
              "    </tr>\n",
              "  </tbody>\n",
              "</table>\n",
              "</div>"
            ],
            "text/plain": [
              "   overall                                         reviewText\n",
              "0      4.0  pretty good story, a little exaggerated, but I...\n",
              "1      5.0  If you've read other max brand westerns, you k...\n",
              "2      5.0                       Love Max, always a fun twist\n",
              "3      5.0                      As usual for him, a good book\n",
              "4      5.0  MB is one of the original western writers and ..."
            ]
          },
          "metadata": {
            "tags": []
          },
          "execution_count": 5
        }
      ]
    },
    {
      "cell_type": "code",
      "metadata": {
        "id": "HDX7aja1_AoI"
      },
      "source": [
        "# split df into positive and negative reviews based on the overall star rating. \n",
        "#omitting 3 stars as they could be either + or -\n",
        "pos_reviews = new_df.loc[new_df['overall'] > 3]\n",
        "neg_reviews = new_df.loc[new_df['overall'] < 3]"
      ],
      "execution_count": 6,
      "outputs": []
    },
    {
      "cell_type": "code",
      "metadata": {
        "colab": {
          "base_uri": "https://localhost:8080/",
          "height": 204
        },
        "id": "3KDlF-F5_drM",
        "outputId": "ab9e4ca3-ac36-4f38-b23b-83de21a52e04"
      },
      "source": [
        "# add column to label review type and combine df back to one \n",
        "pos_reviews.insert(2, 'reaction', 'positive')\n",
        "neg_reviews.insert(2, 'reaction', 'negative')\n",
        "\n",
        "all_reviews = pd.concat([pos_reviews, neg_reviews], ignore_index=True)\n",
        "all_reviews.head()"
      ],
      "execution_count": 7,
      "outputs": [
        {
          "output_type": "execute_result",
          "data": {
            "text/html": [
              "<div>\n",
              "<style scoped>\n",
              "    .dataframe tbody tr th:only-of-type {\n",
              "        vertical-align: middle;\n",
              "    }\n",
              "\n",
              "    .dataframe tbody tr th {\n",
              "        vertical-align: top;\n",
              "    }\n",
              "\n",
              "    .dataframe thead th {\n",
              "        text-align: right;\n",
              "    }\n",
              "</style>\n",
              "<table border=\"1\" class=\"dataframe\">\n",
              "  <thead>\n",
              "    <tr style=\"text-align: right;\">\n",
              "      <th></th>\n",
              "      <th>overall</th>\n",
              "      <th>reviewText</th>\n",
              "      <th>reaction</th>\n",
              "    </tr>\n",
              "  </thead>\n",
              "  <tbody>\n",
              "    <tr>\n",
              "      <th>0</th>\n",
              "      <td>4.0</td>\n",
              "      <td>pretty good story, a little exaggerated, but I...</td>\n",
              "      <td>positive</td>\n",
              "    </tr>\n",
              "    <tr>\n",
              "      <th>1</th>\n",
              "      <td>5.0</td>\n",
              "      <td>If you've read other max brand westerns, you k...</td>\n",
              "      <td>positive</td>\n",
              "    </tr>\n",
              "    <tr>\n",
              "      <th>2</th>\n",
              "      <td>5.0</td>\n",
              "      <td>Love Max, always a fun twist</td>\n",
              "      <td>positive</td>\n",
              "    </tr>\n",
              "    <tr>\n",
              "      <th>3</th>\n",
              "      <td>5.0</td>\n",
              "      <td>As usual for him, a good book</td>\n",
              "      <td>positive</td>\n",
              "    </tr>\n",
              "    <tr>\n",
              "      <th>4</th>\n",
              "      <td>5.0</td>\n",
              "      <td>MB is one of the original western writers and ...</td>\n",
              "      <td>positive</td>\n",
              "    </tr>\n",
              "  </tbody>\n",
              "</table>\n",
              "</div>"
            ],
            "text/plain": [
              "   overall                                         reviewText  reaction\n",
              "0      4.0  pretty good story, a little exaggerated, but I...  positive\n",
              "1      5.0  If you've read other max brand westerns, you k...  positive\n",
              "2      5.0                       Love Max, always a fun twist  positive\n",
              "3      5.0                      As usual for him, a good book  positive\n",
              "4      5.0  MB is one of the original western writers and ...  positive"
            ]
          },
          "metadata": {
            "tags": []
          },
          "execution_count": 7
        }
      ]
    },
    {
      "cell_type": "code",
      "metadata": {
        "colab": {
          "base_uri": "https://localhost:8080/"
        },
        "id": "zm_tmaCH_-Ew",
        "outputId": "a7a49620-9e5e-4582-aaab-26dfb5230ed5"
      },
      "source": [
        "# remove reviews that do not contain text\n",
        "all_reviews['reviewText'].isnull().sum()\n",
        "reviews.info()"
      ],
      "execution_count": 8,
      "outputs": [
        {
          "output_type": "stream",
          "text": [
            "<class 'pandas.core.frame.DataFrame'>\n",
            "Int64Index: 2024661 entries, 0 to 2025033\n",
            "Data columns (total 3 columns):\n",
            " #   Column      Dtype  \n",
            "---  ------      -----  \n",
            " 0   overall     float64\n",
            " 1   reviewText  object \n",
            " 2   reaction    object \n",
            "dtypes: float64(1), object(2)\n",
            "memory usage: 61.8+ MB\n"
          ],
          "name": "stdout"
        }
      ]
    },
    {
      "cell_type": "code",
      "metadata": {
        "id": "EN0YNOIsUeZD"
      },
      "source": [
        "# send word arrays to a txt file, save in drive (for use in text gen)\n",
        "wordsTxt = sample_df[\"review.words\"].values.flatten()\n",
        "wordsArr = itertools.chain(wordsTxt)\n",
        "temp=list(wordsArr)\n",
        "arrOut=np.concatenate(temp, axis=None)\n",
        "np.savetxt('/content/drive/MyDrive/Colab Notebooks/KindlePreprocessed.txt', arrOut, delimiter=None, fmt=\"%s\",encoding='utf8')"
      ],
      "execution_count": null,
      "outputs": []
    },
    {
      "cell_type": "code",
      "metadata": {
        "colab": {
          "base_uri": "https://localhost:8080/"
        },
        "id": "oAE95zDcAkTC",
        "outputId": "fb083eb1-89b1-4b97-c9d3-972ad0d893a6"
      },
      "source": [
        "# create a sample df with equal number of + and - reviews \n",
        "sample_df = reviews.groupby('reaction').apply(lambda x: x.sample(n=10000)).reset_index(drop = True)\n",
        "sample_df['reaction'].value_counts()"
      ],
      "execution_count": 9,
      "outputs": [
        {
          "output_type": "execute_result",
          "data": {
            "text/plain": [
              "positive    10000\n",
              "negative    10000\n",
              "Name: reaction, dtype: int64"
            ]
          },
          "metadata": {
            "tags": []
          },
          "execution_count": 9
        }
      ]
    },
    {
      "cell_type": "code",
      "metadata": {
        "id": "DsrbaIuID5JU"
      },
      "source": [
        "# create lists of + and - reviews from the sample df\n",
        "pos_df = sample_df.loc[sample_df['reaction'] == 'positive']\n",
        "pos_list = pos_df['reviewText'].tolist()\n",
        "\n",
        "neg_df = sample_df.loc[sample_df['reaction'] == 'negative']\n",
        "neg_list = neg_df['reviewText'].tolist()"
      ],
      "execution_count": 10,
      "outputs": []
    },
    {
      "cell_type": "code",
      "metadata": {
        "colab": {
          "base_uri": "https://localhost:8080/"
        },
        "id": "21Zc95EeEBpM",
        "outputId": "551a840b-4a9f-4446-9459-ad3d057908ee"
      },
      "source": [
        "# clean the lists (make all lowercase, convert to strings, and remove punctuation)\n",
        "pos_list_lowered = [word.lower() for word in pos_list]\n",
        "neg_list_lowered = [word.lower() for word in neg_list]\n",
        "\n",
        "pos_list_to_string = ' '.join([str(elem) for elem in pos_list_lowered]) \n",
        "neg_list_to_string = ' '.join([str(elem) for elem in neg_list_lowered])\n",
        "\n",
        "nltk.download('stopwords')\n",
        "\n",
        "stop = set(stopwords.words('english') + list(string.punctuation))\n",
        "\n",
        "tokenizer = WhitespaceTokenizer()\n",
        "\n",
        "filtered_pos_list1 = [w for w in tokenizer.tokenize(pos_list_to_string) if w not in stop]\n",
        "filtered_pos_list = [w.strip(string.punctuation) for w in filtered_pos_list1]\n",
        "\n",
        "filtered_neg_list1 = [w for w in tokenizer.tokenize(neg_list_to_string) if w not in stop]\n",
        "filtered_neg_list = [w.strip(string.punctuation) for w in filtered_neg_list1]"
      ],
      "execution_count": 11,
      "outputs": [
        {
          "output_type": "stream",
          "text": [
            "[nltk_data] Downloading package stopwords to /root/nltk_data...\n",
            "[nltk_data]   Unzipping corpora/stopwords.zip.\n"
          ],
          "name": "stdout"
        }
      ]
    },
    {
      "cell_type": "code",
      "metadata": {
        "colab": {
          "base_uri": "https://localhost:8080/"
        },
        "id": "b8KI9Nk9El_F",
        "outputId": "d458c36a-92ec-424f-b588-52e2fcbd5140"
      },
      "source": [
        "# view the frequency distribution of the most common + and - words\n",
        "freq_dist_pos = nltk.FreqDist(filtered_pos_list)\n",
        "freq_dist_neg = nltk.FreqDist(filtered_neg_list)\n",
        "\n",
        "print(freq_dist_pos.most_common(15))\n",
        "print(freq_dist_neg.most_common(15))"
      ],
      "execution_count": 12,
      "outputs": [
        {
          "output_type": "stream",
          "text": [
            "[('book', 10369), ('story', 6557), ('read', 6177), ('love', 4814), ('one', 4084), ('series', 3679), ('characters', 3046), ('great', 2870), ('good', 2842), ('like', 2621), ('really', 2616), ('books', 2308), ('loved', 2223), ('well', 2179), ('get', 2101)]\n",
            "[('book', 11325), ('story', 6370), ('like', 4728), ('read', 4408), ('one', 4286), ('would', 3225), ('really', 2968), ('author', 2812), ('characters', 2740), ('get', 2585), ('it', 2507), ('good', 2408), ('time', 2349), ('even', 2301), ('books', 2285)]\n"
          ],
          "name": "stdout"
        }
      ]
    },
    {
      "cell_type": "code",
      "metadata": {
        "id": "Gl5uAMkJFLWd"
      },
      "source": [
        "# convert the sets of words to feature sets\n",
        "def word_features(words):\n",
        "    return dict([(word, True) for word in words.split()])"
      ],
      "execution_count": 13,
      "outputs": []
    },
    {
      "cell_type": "markdown",
      "metadata": {
        "id": "KNTeybarGhig"
      },
      "source": [
        "##Train model"
      ]
    },
    {
      "cell_type": "code",
      "metadata": {
        "id": "Z4prjqjRGcQR"
      },
      "source": [
        "# combine into one set for training and testing\n",
        "positive_features = [(word_features(f), 'pos') for f in filtered_pos_list]\n",
        "negative_features = [(word_features(f), 'neg') for f in filtered_neg_list]\n",
        "labeledwords = positive_features + negative_features"
      ],
      "execution_count": 14,
      "outputs": []
    },
    {
      "cell_type": "code",
      "metadata": {
        "id": "CuIgK68SGgHN"
      },
      "source": [
        "# shuffle the words and train and test the model\n",
        "random.shuffle(labeledwords)\n",
        "train_set, test_set = labeledwords[2000:], labeledwords[:500]\n",
        "classifier = nltk.NaiveBayesClassifier.train(train_set)"
      ],
      "execution_count": 15,
      "outputs": []
    },
    {
      "cell_type": "markdown",
      "metadata": {
        "id": "IjwP_4m9GmYQ"
      },
      "source": [
        "##Evaluate model"
      ]
    },
    {
      "cell_type": "code",
      "metadata": {
        "colab": {
          "base_uri": "https://localhost:8080/"
        },
        "id": "pP9Ag8H-GlgT",
        "outputId": "647c9d3e-5829-4a12-b6ff-7dac927bca8f"
      },
      "source": [
        "# test the model w examples\n",
        "print(classifier.classify(word_features('I loved this book, the story was great')))\n",
        "print(classifier.classify(word_features('I did not like this book, the characters were bland')))"
      ],
      "execution_count": 16,
      "outputs": [
        {
          "output_type": "stream",
          "text": [
            "pos\n",
            "neg\n"
          ],
          "name": "stdout"
        }
      ]
    },
    {
      "cell_type": "code",
      "metadata": {
        "colab": {
          "base_uri": "https://localhost:8080/"
        },
        "id": "npOjIBnuHofw",
        "outputId": "fbb352ad-579f-4dee-e231-70d9341349ac"
      },
      "source": [
        "# calculate the accuracy of the model\n",
        "print(nltk.classify.accuracy(classifier, test_set))"
      ],
      "execution_count": 17,
      "outputs": [
        {
          "output_type": "stream",
          "text": [
            "0.638\n"
          ],
          "name": "stdout"
        }
      ]
    },
    {
      "cell_type": "code",
      "metadata": {
        "colab": {
          "base_uri": "https://localhost:8080/"
        },
        "id": "h0sTKzOBHo2q",
        "outputId": "4fcf6b2a-a3b5-4db6-d025-e1663666af87"
      },
      "source": [
        "# show the model's most informative features from the set\n",
        "classifier.show_most_informative_features(15)"
      ],
      "execution_count": 18,
      "outputs": [
        {
          "output_type": "stream",
          "text": [
            "Most Informative Features\n",
            "                    blah = True              neg : pos    =     82.1 : 1.0\n",
            "                  poorly = True              neg : pos    =     57.3 : 1.0\n",
            "                 deleted = True              neg : pos    =     43.3 : 1.0\n",
            "            heartwarming = True              pos : neg    =     36.1 : 1.0\n",
            "                skimming = True              neg : pos    =     36.0 : 1.0\n",
            "               unlikable = True              neg : pos    =     35.2 : 1.0\n",
            "                   waste = True              neg : pos    =     33.5 : 1.0\n",
            "              disjointed = True              neg : pos    =     33.2 : 1.0\n",
            "                 useless = True              neg : pos    =     32.5 : 1.0\n",
            "                juvenile = True              neg : pos    =     32.3 : 1.0\n",
            "                   bland = True              neg : pos    =     31.9 : 1.0\n",
            "               contrived = True              neg : pos    =     29.8 : 1.0\n",
            "            inconsistent = True              neg : pos    =     28.5 : 1.0\n",
            "                terrific = True              pos : neg    =     28.2 : 1.0\n",
            "                   trite = True              neg : pos    =     25.1 : 1.0\n"
          ],
          "name": "stdout"
        }
      ]
    },
    {
      "cell_type": "markdown",
      "metadata": {
        "id": "VygptUI5JRVX"
      },
      "source": [
        "## Classify generated product reviews"
      ]
    },
    {
      "cell_type": "code",
      "metadata": {
        "id": "w3-Gn0-sX2qw"
      },
      "source": [
        "# obtain the generated reviews and convert to array\n",
        "path_to_file = '/content/drive/MyDrive/Colab Notebooks/edited_words.txt'\n",
        "example = open(path_to_file, 'rb').read().decode(encoding='utf-8')\n",
        "example = example.replace('\\n', ' ')\n",
        "ex_str = str(example)\n",
        "ex_arr = ex_str.split(\"\\\"\")"
      ],
      "execution_count": 35,
      "outputs": []
    },
    {
      "cell_type": "code",
      "metadata": {
        "colab": {
          "base_uri": "https://localhost:8080/"
        },
        "id": "ZQ1SoHzoZJkT",
        "outputId": "41b55631-caf4-4429-b918-2cf164571521"
      },
      "source": [
        "# loop through reviews array and input each into classifier\n",
        "n = 1\n",
        "for i in ex_arr:\n",
        "  print(\"Review \", n, \":\", classifier.classify(word_features(i)))\n",
        "  n = n+1"
      ],
      "execution_count": 36,
      "outputs": [
        {
          "output_type": "stream",
          "text": [
            "Review  1 : pos\n",
            "Review  2 : pos\n",
            "Review  3 : neg\n",
            "Review  4 : neg\n",
            "Review  5 : neg\n",
            "Review  6 : pos\n",
            "Review  7 : neg\n",
            "Review  8 : neg\n",
            "Review  9 : neg\n",
            "Review  10 : pos\n"
          ],
          "name": "stdout"
        }
      ]
    }
  ]
}