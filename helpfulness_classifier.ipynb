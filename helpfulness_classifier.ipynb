{
  "nbformat": 4,
  "nbformat_minor": 0,
  "metadata": {
    "colab": {
      "name": "helpfulness_classifier.ipynb",
      "provenance": []
    },
    "kernelspec": {
      "name": "python3",
      "display_name": "Python 3"
    },
    "language_info": {
      "name": "python"
    }
  },
  "cells": [
    {
      "cell_type": "markdown",
      "metadata": {
        "id": "zWoiqQE4oPtk"
      },
      "source": [
        "#Prediction of Helpfulness"
      ]
    },
    {
      "cell_type": "markdown",
      "metadata": {
        "id": "_SFf8qeUoYf5"
      },
      "source": [
        "##Import libraries and download data"
      ]
    },
    {
      "cell_type": "code",
      "metadata": {
        "colab": {
          "base_uri": "https://localhost:8080/"
        },
        "id": "uWBt-lDvY5KU",
        "outputId": "d79ecc30-6d0e-4443-dd7f-25181359fff4"
      },
      "source": [
        "import os\n",
        "import json\n",
        "import gzip\n",
        "from urllib.request import urlopen\n",
        "import numpy as np\n",
        "import pandas as pd\n",
        "import random\n",
        "import string\n",
        "import nltk\n",
        "from nltk.tokenize import WhitespaceTokenizer\n",
        "from nltk.corpus import stopwords\n",
        "import string\n",
        "import re\n",
        "import itertools\n",
        "from __future__ import division, print_function, absolute_import\n",
        "from gensim.models import Word2Vec\n",
        "\n",
        "from nltk.data import find\n",
        "from sklearn.metrics import roc_curve, auc\n",
        "\n",
        "import gensim\n",
        "import matplotlib.pyplot as plt\n",
        "%matplotlib inline\n",
        "import tensorflow as tf\n",
        "import seaborn as sns\n",
        "\n",
        "%load_ext autoreload\n",
        "%autoreload 2\n",
        "\n",
        "from IPython.display import display # Allows the use of display() for DataFrames\n",
        "\n",
        "import warnings\n",
        "warnings.filterwarnings('ignore')\n",
        "\n",
        "# Config the matlotlib backend as plotting inline in IPython\n",
        "%matplotlib inline\n",
        "\n",
        "# constants\n",
        "FIG_SIZE = (14,8)\n",
        "RAN_STATE = 42"
      ],
      "execution_count": 67,
      "outputs": [
        {
          "output_type": "stream",
          "text": [
            "The autoreload extension is already loaded. To reload it, use:\n",
            "  %reload_ext autoreload\n"
          ],
          "name": "stdout"
        }
      ]
    },
    {
      "cell_type": "code",
      "metadata": {
        "colab": {
          "base_uri": "https://localhost:8080/"
        },
        "id": "Iqc2ZJLxcjrU",
        "outputId": "82ae7077-d49a-4c5d-d353-999e4c7e558d"
      },
      "source": [
        "!wget http://snap.stanford.edu/data/amazon/productGraph/categoryFiles/reviews_Kindle_Store_10.json.gz"
      ],
      "execution_count": 3,
      "outputs": [
        {
          "output_type": "stream",
          "text": [
            "--2021-08-23 15:29:48--  http://snap.stanford.edu/data/amazon/productGraph/categoryFiles/reviews_Kindle_Store_10.json.gz\n",
            "Resolving snap.stanford.edu (snap.stanford.edu)... 171.64.75.80\n",
            "Connecting to snap.stanford.edu (snap.stanford.edu)|171.64.75.80|:80... connected.\n",
            "HTTP request sent, awaiting response... 200 OK\n",
            "Length: 111295907 (106M) [application/x-gzip]\n",
            "Saving to: ‘reviews_Kindle_Store_10.json.gz’\n",
            "\n",
            "reviews_Kindle_Stor 100%[===================>] 106.14M  6.52MB/s    in 11s     \n",
            "\n",
            "2021-08-23 15:30:00 (9.37 MB/s) - ‘reviews_Kindle_Store_10.json.gz’ saved [111295907/111295907]\n",
            "\n"
          ],
          "name": "stdout"
        }
      ]
    },
    {
      "cell_type": "code",
      "metadata": {
        "colab": {
          "base_uri": "https://localhost:8080/"
        },
        "id": "vKLTFj1Cc2g6",
        "outputId": "ae24b52a-bf8d-430e-fdcb-3dfb32e2e559"
      },
      "source": [
        "# load the data\n",
        "data = []\n",
        "with gzip.open('reviews_Kindle_Store_10.json.gz') as f:\n",
        "    for l in f:\n",
        "        data.append(json.loads(l.strip()))\n",
        "# total length of list, this number equals total number of products\n",
        "print(len(data))\n",
        "# first row of the list\n",
        "print(data[0])"
      ],
      "execution_count": 4,
      "outputs": [
        {
          "output_type": "stream",
          "text": [
            "367478\n",
            "{'reviewerID': 'A33EX8MZYBV0YI', 'asin': 'B000JMLBHU', 'reviewerName': 'alone with books', 'helpful': [0, 0], 'reviewText': 'this was an Ok book, but slow at times, I actually put it down and read something else and then came back, the second part was better, when  other people came into the story', 'overall': 3.0, 'summary': 'the Mysterrous Island', 'unixReviewTime': 1374537600, 'reviewTime': '07 23, 2013'}\n"
          ],
          "name": "stdout"
        }
      ]
    },
    {
      "cell_type": "markdown",
      "metadata": {
        "id": "dcijYd4NpGw2"
      },
      "source": [
        "##Data Preprocessing"
      ]
    },
    {
      "cell_type": "code",
      "metadata": {
        "colab": {
          "base_uri": "https://localhost:8080/"
        },
        "id": "UYB7XfMhgPiG",
        "outputId": "24986023-061f-4ad1-bf64-809595b879e1"
      },
      "source": [
        "# convert list into pandas dataframe\n",
        "data_df = pd.DataFrame.from_dict(data)\n",
        "print(len(data_df))"
      ],
      "execution_count": 5,
      "outputs": [
        {
          "output_type": "stream",
          "text": [
            "367478\n"
          ],
          "name": "stdout"
        }
      ]
    },
    {
      "cell_type": "code",
      "metadata": {
        "colab": {
          "base_uri": "https://localhost:8080/"
        },
        "id": "S_mmUO8ogInt",
        "outputId": "56554aa7-cff8-4d73-bb47-98816d70b67b"
      },
      "source": [
        "# select the columns\n",
        "df = data_df.iloc[:, [5,4,3]]\n",
        "\n",
        "# split numerator and denominator\n",
        "df['helpful_numerator'] = df['helpful'].apply(lambda x: x[0])\n",
        "df['helpful_denominator'] = df['helpful'].apply(lambda x: x[1])\n",
        "\n",
        "# delete un-needed 'helpful catagory\n",
        "del df['helpful']\n",
        "\n",
        "# check if we have any null values\n",
        "print (df.isnull().sum())"
      ],
      "execution_count": 7,
      "outputs": [
        {
          "output_type": "stream",
          "text": [
            "overall                0\n",
            "reviewText             0\n",
            "helpful_numerator      0\n",
            "helpful_denominator    0\n",
            "dtype: int64\n"
          ],
          "name": "stdout"
        }
      ]
    },
    {
      "cell_type": "code",
      "metadata": {
        "colab": {
          "base_uri": "https://localhost:8080/"
        },
        "id": "QpVYQfDfhTks",
        "outputId": "4a74d5a6-5c1b-416f-b7b0-b9de5d915d58"
      },
      "source": [
        "print (df['helpful_numerator'].idxmax(axis=0, skipna=True))\n",
        "print (df['helpful_denominator'].idxmax(axis=0, skipna=True))"
      ],
      "execution_count": 8,
      "outputs": [
        {
          "output_type": "stream",
          "text": [
            "37707\n",
            "37707\n"
          ],
          "name": "stdout"
        }
      ]
    },
    {
      "cell_type": "code",
      "metadata": {
        "colab": {
          "base_uri": "https://localhost:8080/"
        },
        "id": "uLOk3CGThg-4",
        "outputId": "c3e003e4-e699-46b4-8072-895e9f7d1355"
      },
      "source": [
        "# include reviews that have more than 10 helpfulness data point only\n",
        "df1 = df[(df.helpful_denominator > 10)].copy()\n",
        "df1.shape"
      ],
      "execution_count": 9,
      "outputs": [
        {
          "output_type": "execute_result",
          "data": {
            "text/plain": [
              "(6643, 4)"
            ]
          },
          "metadata": {},
          "execution_count": 9
        }
      ]
    },
    {
      "cell_type": "code",
      "metadata": {
        "colab": {
          "base_uri": "https://localhost:8080/",
          "height": 759
        },
        "id": "GL2Tadn4k5GD",
        "outputId": "460c9c3b-628d-44e7-cdf8-df966a07acbd"
      },
      "source": [
        "df1"
      ],
      "execution_count": 19,
      "outputs": [
        {
          "output_type": "execute_result",
          "data": {
            "text/html": [
              "<div>\n",
              "<style scoped>\n",
              "    .dataframe tbody tr th:only-of-type {\n",
              "        vertical-align: middle;\n",
              "    }\n",
              "\n",
              "    .dataframe tbody tr th {\n",
              "        vertical-align: top;\n",
              "    }\n",
              "\n",
              "    .dataframe thead th {\n",
              "        text-align: right;\n",
              "    }\n",
              "</style>\n",
              "<table border=\"1\" class=\"dataframe\">\n",
              "  <thead>\n",
              "    <tr style=\"text-align: right;\">\n",
              "      <th></th>\n",
              "      <th>overall</th>\n",
              "      <th>reviewText</th>\n",
              "      <th>helpful_numerator</th>\n",
              "      <th>helpful_denominator</th>\n",
              "      <th>Helpful</th>\n",
              "    </tr>\n",
              "  </thead>\n",
              "  <tbody>\n",
              "    <tr>\n",
              "      <th>34</th>\n",
              "      <td>5.0</td>\n",
              "      <td>im shocked to see the reviews for this series,...</td>\n",
              "      <td>14</td>\n",
              "      <td>16</td>\n",
              "      <td>1</td>\n",
              "    </tr>\n",
              "    <tr>\n",
              "      <th>35</th>\n",
              "      <td>5.0</td>\n",
              "      <td>i've enjoyed several of ms. d'arc's other book...</td>\n",
              "      <td>18</td>\n",
              "      <td>18</td>\n",
              "      <td>1</td>\n",
              "    </tr>\n",
              "    <tr>\n",
              "      <th>49</th>\n",
              "      <td>5.0</td>\n",
              "      <td>belora lives with her mother in an isolated fo...</td>\n",
              "      <td>13</td>\n",
              "      <td>14</td>\n",
              "      <td>1</td>\n",
              "    </tr>\n",
              "    <tr>\n",
              "      <th>52</th>\n",
              "      <td>3.0</td>\n",
              "      <td>reading the reviews before purchasing this, th...</td>\n",
              "      <td>11</td>\n",
              "      <td>12</td>\n",
              "      <td>1</td>\n",
              "    </tr>\n",
              "    <tr>\n",
              "      <th>55</th>\n",
              "      <td>4.0</td>\n",
              "      <td>reviewed by ann &amp; posted at under the covers b...</td>\n",
              "      <td>18</td>\n",
              "      <td>18</td>\n",
              "      <td>1</td>\n",
              "    </tr>\n",
              "    <tr>\n",
              "      <th>...</th>\n",
              "      <td>...</td>\n",
              "      <td>...</td>\n",
              "      <td>...</td>\n",
              "      <td>...</td>\n",
              "      <td>...</td>\n",
              "    </tr>\n",
              "    <tr>\n",
              "      <th>366393</th>\n",
              "      <td>5.0</td>\n",
              "      <td>jonny bell is the only author i read twice.thi...</td>\n",
              "      <td>11</td>\n",
              "      <td>11</td>\n",
              "      <td>1</td>\n",
              "    </tr>\n",
              "    <tr>\n",
              "      <th>367291</th>\n",
              "      <td>5.0</td>\n",
              "      <td>come back is the second book in the dirty, dar...</td>\n",
              "      <td>12</td>\n",
              "      <td>12</td>\n",
              "      <td>1</td>\n",
              "    </tr>\n",
              "    <tr>\n",
              "      <th>367417</th>\n",
              "      <td>5.0</td>\n",
              "      <td>i was trusted with this arc, in exchange for a...</td>\n",
              "      <td>9</td>\n",
              "      <td>11</td>\n",
              "      <td>1</td>\n",
              "    </tr>\n",
              "    <tr>\n",
              "      <th>367438</th>\n",
              "      <td>5.0</td>\n",
              "      <td>this book was absolutely perfect! second chanc...</td>\n",
              "      <td>14</td>\n",
              "      <td>17</td>\n",
              "      <td>1</td>\n",
              "    </tr>\n",
              "    <tr>\n",
              "      <th>367460</th>\n",
              "      <td>5.0</td>\n",
              "      <td>i loved that i honestly really had no clue wha...</td>\n",
              "      <td>11</td>\n",
              "      <td>11</td>\n",
              "      <td>1</td>\n",
              "    </tr>\n",
              "  </tbody>\n",
              "</table>\n",
              "<p>6643 rows × 5 columns</p>\n",
              "</div>"
            ],
            "text/plain": [
              "        overall  ... Helpful\n",
              "34          5.0  ...       1\n",
              "35          5.0  ...       1\n",
              "49          5.0  ...       1\n",
              "52          3.0  ...       1\n",
              "55          4.0  ...       1\n",
              "...         ...  ...     ...\n",
              "366393      5.0  ...       1\n",
              "367291      5.0  ...       1\n",
              "367417      5.0  ...       1\n",
              "367438      5.0  ...       1\n",
              "367460      5.0  ...       1\n",
              "\n",
              "[6643 rows x 5 columns]"
            ]
          },
          "metadata": {},
          "execution_count": 19
        }
      ]
    },
    {
      "cell_type": "code",
      "metadata": {
        "colab": {
          "base_uri": "https://localhost:8080/",
          "height": 193
        },
        "id": "UWN2iG-thpdC",
        "outputId": "f41368aa-8786-477e-86aa-6db02e3015ca"
      },
      "source": [
        "# transform Helpfulness into a binary variable with 0.50 ratio\n",
        "threshold = 0.5\n",
        "df1.loc[:, 'Helpful'] = np.where(df1.loc[:, 'helpful_numerator'] \\\n",
        "                                 / df1.loc[:, 'helpful_denominator'] > threshold, 1, 0)\n",
        "df1.head(3)"
      ],
      "execution_count": 11,
      "outputs": [
        {
          "output_type": "execute_result",
          "data": {
            "text/html": [
              "<div>\n",
              "<style scoped>\n",
              "    .dataframe tbody tr th:only-of-type {\n",
              "        vertical-align: middle;\n",
              "    }\n",
              "\n",
              "    .dataframe tbody tr th {\n",
              "        vertical-align: top;\n",
              "    }\n",
              "\n",
              "    .dataframe thead th {\n",
              "        text-align: right;\n",
              "    }\n",
              "</style>\n",
              "<table border=\"1\" class=\"dataframe\">\n",
              "  <thead>\n",
              "    <tr style=\"text-align: right;\">\n",
              "      <th></th>\n",
              "      <th>overall</th>\n",
              "      <th>reviewText</th>\n",
              "      <th>helpful_numerator</th>\n",
              "      <th>helpful_denominator</th>\n",
              "      <th>Helpful</th>\n",
              "    </tr>\n",
              "  </thead>\n",
              "  <tbody>\n",
              "    <tr>\n",
              "      <th>34</th>\n",
              "      <td>5.0</td>\n",
              "      <td>Im shocked to see the reviews for this series,...</td>\n",
              "      <td>14</td>\n",
              "      <td>16</td>\n",
              "      <td>1</td>\n",
              "    </tr>\n",
              "    <tr>\n",
              "      <th>35</th>\n",
              "      <td>5.0</td>\n",
              "      <td>I've enjoyed several of Ms. D'arc's other book...</td>\n",
              "      <td>18</td>\n",
              "      <td>18</td>\n",
              "      <td>1</td>\n",
              "    </tr>\n",
              "    <tr>\n",
              "      <th>49</th>\n",
              "      <td>5.0</td>\n",
              "      <td>Belora lives with her mother in an isolated fo...</td>\n",
              "      <td>13</td>\n",
              "      <td>14</td>\n",
              "      <td>1</td>\n",
              "    </tr>\n",
              "  </tbody>\n",
              "</table>\n",
              "</div>"
            ],
            "text/plain": [
              "    overall  ... Helpful\n",
              "34      5.0  ...       1\n",
              "35      5.0  ...       1\n",
              "49      5.0  ...       1\n",
              "\n",
              "[3 rows x 5 columns]"
            ]
          },
          "metadata": {},
          "execution_count": 11
        }
      ]
    },
    {
      "cell_type": "code",
      "metadata": {
        "colab": {
          "base_uri": "https://localhost:8080/",
          "height": 159
        },
        "id": "wmCHgfUBlZ7U",
        "outputId": "60fad56c-ecf3-4d94-d5dd-82a482c791c9"
      },
      "source": [
        "# check the balance\n",
        "print ('Count:')\n",
        "display(df1.groupby('Helpful').count())"
      ],
      "execution_count": 12,
      "outputs": [
        {
          "output_type": "stream",
          "text": [
            "Count:\n"
          ],
          "name": "stdout"
        },
        {
          "output_type": "display_data",
          "data": {
            "text/html": [
              "<div>\n",
              "<style scoped>\n",
              "    .dataframe tbody tr th:only-of-type {\n",
              "        vertical-align: middle;\n",
              "    }\n",
              "\n",
              "    .dataframe tbody tr th {\n",
              "        vertical-align: top;\n",
              "    }\n",
              "\n",
              "    .dataframe thead th {\n",
              "        text-align: right;\n",
              "    }\n",
              "</style>\n",
              "<table border=\"1\" class=\"dataframe\">\n",
              "  <thead>\n",
              "    <tr style=\"text-align: right;\">\n",
              "      <th></th>\n",
              "      <th>overall</th>\n",
              "      <th>reviewText</th>\n",
              "      <th>helpful_numerator</th>\n",
              "      <th>helpful_denominator</th>\n",
              "    </tr>\n",
              "    <tr>\n",
              "      <th>Helpful</th>\n",
              "      <th></th>\n",
              "      <th></th>\n",
              "      <th></th>\n",
              "      <th></th>\n",
              "    </tr>\n",
              "  </thead>\n",
              "  <tbody>\n",
              "    <tr>\n",
              "      <th>0</th>\n",
              "      <td>439</td>\n",
              "      <td>439</td>\n",
              "      <td>439</td>\n",
              "      <td>439</td>\n",
              "    </tr>\n",
              "    <tr>\n",
              "      <th>1</th>\n",
              "      <td>6204</td>\n",
              "      <td>6204</td>\n",
              "      <td>6204</td>\n",
              "      <td>6204</td>\n",
              "    </tr>\n",
              "  </tbody>\n",
              "</table>\n",
              "</div>"
            ],
            "text/plain": [
              "         overall  reviewText  helpful_numerator  helpful_denominator\n",
              "Helpful                                                             \n",
              "0            439         439                439                  439\n",
              "1           6204        6204               6204                 6204"
            ]
          },
          "metadata": {}
        }
      ]
    },
    {
      "cell_type": "code",
      "metadata": {
        "colab": {
          "base_uri": "https://localhost:8080/",
          "height": 465
        },
        "id": "GtvK6uS6lclQ",
        "outputId": "54f357a9-eccc-4d19-d3f3-08609d608572"
      },
      "source": [
        "# visualize correlation of the data\n",
        "correlations = df1.corr()\n",
        "plt.figure(figsize = FIG_SIZE)\n",
        "plt.title(\"Heatmap of correlations in each catagory\")\n",
        "_ = sns.heatmap(correlations, vmin=0, vmax=1, annot=True)"
      ],
      "execution_count": 13,
      "outputs": [
        {
          "output_type": "display_data",
          "data": {
            "image/png": "[encoded data removed]",
            "text/plain": [
              "<Figure size 1008x576 with 2 Axes>"
            ]
          },
          "metadata": {
            "needs_background": "light"
          }
        }
      ]
    },
    {
      "cell_type": "code",
      "metadata": {
        "colab": {
          "base_uri": "https://localhost:8080/"
        },
        "id": "vD0j8n3PlfIw",
        "outputId": "fa1f34d0-2d84-4c04-e0fa-ea61e4164f49"
      },
      "source": [
        "# convert text to lowercase\n",
        "df1.loc[:, 'reviewText'] = df1['reviewText'].str.lower()\n",
        "\n",
        "def remove_punctuation(text):\n",
        "    return text.translate(string.punctuation.translate('\"'))\n",
        "\n",
        "df1['reviewText']=df1['reviewText'].apply( lambda x: remove_punctuation(x))\n",
        "df1['reviewText'].head(4)"
      ],
      "execution_count": 14,
      "outputs": [
        {
          "output_type": "execute_result",
          "data": {
            "text/plain": [
              "34    im shocked to see the reviews for this series,...\n",
              "35    i've enjoyed several of ms. d'arc's other book...\n",
              "49    belora lives with her mother in an isolated fo...\n",
              "52    reading the reviews before purchasing this, th...\n",
              "Name: reviewText, dtype: object"
            ]
          },
          "metadata": {},
          "execution_count": 14
        }
      ]
    },
    {
      "cell_type": "code",
      "metadata": {
        "colab": {
          "base_uri": "https://localhost:8080/"
        },
        "id": "rZGbicFql1Sx",
        "outputId": "88f0b687-97ff-4aab-bb5e-bef28deb9d77"
      },
      "source": [
        "# tokenize text with Tfidf\n",
        "from sklearn.feature_extraction.text import TfidfVectorizer\n",
        "from nltk.stem.snowball import SnowballStemmer\n",
        "\n",
        "# create a stemmer\n",
        "stemmer = SnowballStemmer(\"english\")\n",
        "\n",
        "\n",
        "# define our own tokenizing function that we will pass into the TFIDFVectorizer. We will also stem the words here.\n",
        "def tokens(x):\n",
        "    x = x.split()\n",
        "    stems = []\n",
        "    [stems.append(stemmer.stem(word)) for word in x]\n",
        "    return stems\n",
        "\n",
        "# loads pickle if exists, extracts and pickles if it doesn't\n",
        "if os.path.exists('features.pickle'):\n",
        "    print ('Pickled file already present, loading...')\n",
        "    features = pickle.load( open( \"features.pickle\", \"rb\" ) )\n",
        "    print ('Pickle file loaded.')\n",
        "else:\n",
        "    # define the vectorizer\n",
        "    vectorizer = TfidfVectorizer(tokenizer = tokens, stop_words = 'english', ngram_range=(1, 1), min_df = 0.01)\n",
        "    # fit the vectorizers to the data.\n",
        "    features = vectorizer.fit_transform(df1['reviewText'])\n",
        "features"
      ],
      "execution_count": 15,
      "outputs": [
        {
          "output_type": "execute_result",
          "data": {
            "text/plain": [
              "<6643x1350 sparse matrix of type '<class 'numpy.float64'>'\n",
              "\twith 356952 stored elements in Compressed Sparse Row format>"
            ]
          },
          "metadata": {},
          "execution_count": 15
        }
      ]
    },
    {
      "cell_type": "markdown",
      "metadata": {
        "id": "nlyYXbZYpv_7"
      },
      "source": [
        "##Train and Test the Model"
      ]
    },
    {
      "cell_type": "code",
      "metadata": {
        "id": "Rc3eAc51l9z-"
      },
      "source": [
        "from sklearn.model_selection import train_test_split\n",
        "X_train, X_test, y_train, y_test = train_test_split(features,df1['Helpful'], test_size=0.2, random_state=RAN_STATE)"
      ],
      "execution_count": 16,
      "outputs": []
    },
    {
      "cell_type": "code",
      "metadata": {
        "id": "B0hZwdKDmQZV"
      },
      "source": [
        "from sklearn.metrics import roc_auc_score, roc_curve\n",
        "import time\n",
        "def train_classifier(clf, X_train, y_train):\n",
        "    ''' Fits a classifier to the training data. '''\n",
        "    \n",
        "    # start the clock, train the classifier, then stop the clock\n",
        "    start = time.time()\n",
        "    clf.fit(X_train, y_train)\n",
        "    end = time.time()\n",
        "    \n",
        "    # print the results\n",
        "    print (\"Trained model in {:.4f} seconds\".format(end - start))\n",
        "\n",
        "    \n",
        "def predict_labels(clf, features, target):\n",
        "    ''' Makes predictions using a fit classifier based on roc_auc score. '''\n",
        "    \n",
        "    # start the clock, make predictions, then stop the clock\n",
        "    start = time.time()\n",
        "    probas = clf.predict_proba(features)\n",
        "    end = time.time()\n",
        "    \n",
        "    # print and return results\n",
        "    print (\"Made predictions in {:.4f} seconds.\".format(end - start))\n",
        "    return roc_auc_score(target.values, probas[:,1].T)\n",
        "\n",
        "\n",
        "def train_predict(clf, X_train, y_train, X_test, y_test):\n",
        "    ''' Train and predict using a classifer based on roc_auc score. '''\n",
        "    \n",
        "    # indicate the classifier and the training set size\n",
        "    print (\"Training a {} using a training set size of {}. . .\".format(clf.__class__.__name__, X_train.shape[0]))\n",
        "    \n",
        "    # train the classifier\n",
        "    train_classifier(clf, X_train, y_train)\n",
        "    \n",
        "    # print the results of prediction for both training and testing\n",
        "    print (\"ROC_AUC score for training set: {:.4f}.\".format(predict_labels(clf, X_train, y_train)))\n",
        "    print (\"ROC_AUC score for test set: {:.4f}.\\n\".format(predict_labels(clf, X_test, y_test)))\n",
        "    \n",
        "def clf_test_roc_score(clf, X_train, y_train, X_test, y_test):\n",
        "    clf.fit(X_train, y_train)\n",
        "    probas = probas =clf.predict_proba(X_test)\n",
        "    return roc_auc_score(y_test, probas[:,1].T)"
      ],
      "execution_count": 17,
      "outputs": []
    },
    {
      "cell_type": "code",
      "metadata": {
        "colab": {
          "base_uri": "https://localhost:8080/"
        },
        "id": "ToGh_3M_mTDH",
        "outputId": "89a45e80-1d7e-4cf6-817a-c3c47f552218"
      },
      "source": [
        "# import the supervised learning models from sklearn\n",
        "from sklearn.naive_bayes import GaussianNB\n",
        "from sklearn.ensemble import AdaBoostClassifier\n",
        "from sklearn.ensemble import RandomForestClassifier\n",
        "from sklearn.linear_model import LogisticRegression\n",
        "from sklearn.tree import DecisionTreeClassifier\n",
        "\n",
        "\n",
        "# initialize the models using a random state were applicable.\n",
        "clf_list = [GaussianNB(), \n",
        "            AdaBoostClassifier(random_state = RAN_STATE), \n",
        "            RandomForestClassifier(random_state = RAN_STATE), \n",
        "            LogisticRegression(random_state = RAN_STATE),\n",
        "            DecisionTreeClassifier(random_state = RAN_STATE)]\n",
        "x_tr = X_train.toarray()\n",
        "x_te = X_test.toarray()\n",
        "\n",
        "\n",
        "# set up the training set sizes \n",
        "train_feature_list = [x_tr[0:1000],x_tr[0:2500],x_tr]\n",
        "train_target_list = [y_train[0:1000], y_train[0:2500], y_train]\n",
        "\n",
        "\n",
        "# execute the 'train_predict' function for each of the classifiers and each training set size\n",
        "for clf in clf_list:\n",
        "    for a, b in zip(train_feature_list, train_target_list):\n",
        "        train_predict(clf, a, b, x_te, y_test)"
      ],
      "execution_count": 18,
      "outputs": [
        {
          "output_type": "stream",
          "text": [
            "Training a GaussianNB using a training set size of 1000. . .\n",
            "Trained model in 0.0193 seconds\n",
            "Made predictions in 0.0192 seconds.\n",
            "ROC_AUC score for training set: 0.9860.\n",
            "Made predictions in 0.0264 seconds.\n",
            "ROC_AUC score for test set: 0.5571.\n",
            "\n",
            "Training a GaussianNB using a training set size of 2500. . .\n",
            "Trained model in 0.0487 seconds\n",
            "Made predictions in 0.0434 seconds.\n",
            "ROC_AUC score for training set: 0.9417.\n",
            "Made predictions in 0.0226 seconds.\n",
            "ROC_AUC score for test set: 0.6287.\n",
            "\n",
            "Training a GaussianNB using a training set size of 5314. . .\n",
            "Trained model in 0.1084 seconds\n",
            "Made predictions in 0.0950 seconds.\n",
            "ROC_AUC score for training set: 0.9239.\n",
            "Made predictions in 0.0234 seconds.\n",
            "ROC_AUC score for test set: 0.7184.\n",
            "\n",
            "Training a AdaBoostClassifier using a training set size of 1000. . .\n",
            "Trained model in 1.0379 seconds\n",
            "Made predictions in 0.1561 seconds.\n",
            "ROC_AUC score for training set: 0.9950.\n",
            "Made predictions in 0.2137 seconds.\n",
            "ROC_AUC score for test set: 0.6947.\n",
            "\n",
            "Training a AdaBoostClassifier using a training set size of 2500. . .\n",
            "Trained model in 2.8448 seconds\n",
            "Made predictions in 0.3694 seconds.\n",
            "ROC_AUC score for training set: 0.9417.\n",
            "Made predictions in 0.2066 seconds.\n",
            "ROC_AUC score for test set: 0.6701.\n",
            "\n",
            "Training a AdaBoostClassifier using a training set size of 5314. . .\n",
            "Trained model in 7.7857 seconds\n",
            "Made predictions in 0.8382 seconds.\n",
            "ROC_AUC score for training set: 0.8961.\n",
            "Made predictions in 0.2057 seconds.\n",
            "ROC_AUC score for test set: 0.7222.\n",
            "\n",
            "Training a RandomForestClassifier using a training set size of 1000. . .\n",
            "Trained model in 0.8806 seconds\n",
            "Made predictions in 0.0376 seconds.\n",
            "ROC_AUC score for training set: 1.0000.\n",
            "Made predictions in 0.0471 seconds.\n",
            "ROC_AUC score for test set: 0.7062.\n",
            "\n",
            "Training a RandomForestClassifier using a training set size of 2500. . .\n",
            "Trained model in 3.6529 seconds\n",
            "Made predictions in 0.1088 seconds.\n",
            "ROC_AUC score for training set: 1.0000.\n",
            "Made predictions in 0.0575 seconds.\n",
            "ROC_AUC score for test set: 0.7542.\n",
            "\n",
            "Training a RandomForestClassifier using a training set size of 5314. . .\n",
            "Trained model in 10.7191 seconds\n",
            "Made predictions in 0.3569 seconds.\n",
            "ROC_AUC score for training set: 1.0000.\n",
            "Made predictions in 0.0660 seconds.\n",
            "ROC_AUC score for test set: 0.7749.\n",
            "\n",
            "Training a LogisticRegression using a training set size of 1000. . .\n",
            "Trained model in 0.0404 seconds\n",
            "Made predictions in 0.0017 seconds.\n",
            "ROC_AUC score for training set: 0.9926.\n",
            "Made predictions in 0.0028 seconds.\n",
            "ROC_AUC score for test set: 0.7800.\n",
            "\n",
            "Training a LogisticRegression using a training set size of 2500. . .\n",
            "Trained model in 0.1409 seconds\n",
            "Made predictions in 0.0041 seconds.\n",
            "ROC_AUC score for training set: 0.9590.\n",
            "Made predictions in 0.0027 seconds.\n",
            "ROC_AUC score for test set: 0.7636.\n",
            "\n",
            "Training a LogisticRegression using a training set size of 5314. . .\n",
            "Trained model in 0.3264 seconds\n",
            "Made predictions in 0.0101 seconds.\n",
            "ROC_AUC score for training set: 0.9362.\n",
            "Made predictions in 0.0029 seconds.\n",
            "ROC_AUC score for test set: 0.7752.\n",
            "\n",
            "Training a DecisionTreeClassifier using a training set size of 1000. . .\n",
            "Trained model in 0.4633 seconds\n",
            "Made predictions in 0.0028 seconds.\n",
            "ROC_AUC score for training set: 1.0000.\n",
            "Made predictions in 0.0039 seconds.\n",
            "ROC_AUC score for test set: 0.5505.\n",
            "\n",
            "Training a DecisionTreeClassifier using a training set size of 2500. . .\n",
            "Trained model in 3.0713 seconds\n",
            "Made predictions in 0.0092 seconds.\n",
            "ROC_AUC score for training set: 1.0000.\n",
            "Made predictions in 0.0046 seconds.\n",
            "ROC_AUC score for test set: 0.4986.\n",
            "\n",
            "Training a DecisionTreeClassifier using a training set size of 5314. . .\n",
            "Trained model in 6.2865 seconds\n",
            "Made predictions in 0.0177 seconds.\n",
            "ROC_AUC score for training set: 1.0000.\n",
            "Made predictions in 0.0045 seconds.\n",
            "ROC_AUC score for test set: 0.5467.\n",
            "\n"
          ],
          "name": "stdout"
        }
      ]
    },
    {
      "cell_type": "code",
      "metadata": {
        "colab": {
          "base_uri": "https://localhost:8080/",
          "height": 312
        },
        "id": "Y4TyaG7XnaPA",
        "outputId": "ee3758a6-e8ae-48fb-d436-88d56b39c03b"
      },
      "source": [
        "# visualize all of the classifiers                                                               \n",
        "for clf in clf_list:\n",
        "    x_graph = []\n",
        "    y_graph = []\n",
        "    for a, b in zip(train_feature_list, train_target_list):\n",
        "        y_graph.append(clf_test_roc_score(clf, a, b, x_te, y_test))\n",
        "        x_graph.append(len(a))\n",
        "    plt.scatter(x_graph,y_graph)\n",
        "    plt.plot(x_graph,y_graph, label = clf.__class__.__name__)\n",
        "\n",
        "plt.title('Comparison of Different Classifiers')\n",
        "plt.xlabel('Training Size')\n",
        "plt.ylabel('ROC_AUC score on test set')\n",
        "plt.legend(bbox_to_anchor=(1.6, 1.05))\n",
        "plt.figure(figsize=FIG_SIZE)             \n",
        "plt.show()"
      ],
      "execution_count": 20,
      "outputs": [
        {
          "output_type": "display_data",
          "data": {
            "image/png": "[encoded data removed]",
            "text/plain": [
              "<Figure size 432x288 with 1 Axes>"
            ]
          },
          "metadata": {
            "needs_background": "light"
          }
        },
        {
          "output_type": "display_data",
          "data": {
            "text/plain": [
              "<Figure size 1008x576 with 0 Axes>"
            ]
          },
          "metadata": {}
        }
      ]
    },
    {
      "cell_type": "markdown",
      "metadata": {
        "id": "F774K8mYztXt"
      },
      "source": [
        "##Add Overall Rating Feature"
      ]
    },
    {
      "cell_type": "code",
      "metadata": {
        "colab": {
          "base_uri": "https://localhost:8080/"
        },
        "id": "mwLi0M5epAJa",
        "outputId": "38f7148e-8876-418a-ebfc-2cb15f7dbb15"
      },
      "source": [
        "# add Score column to features\n",
        "import scipy as scipy\n",
        "from six.moves import cPickle as pickle\n",
        "\n",
        "# features = pickle.load( open( \"features.pickle\", \"rb\" ) )\n",
        "overall = np.array(list(df1.overall))\n",
        "overall = overall.reshape(features.shape[0], 1)\n",
        "\n",
        "features2 = scipy.sparse.hstack((features,scipy.sparse.csr_matrix(overall)))\n",
        "\n",
        "features2 = scipy.sparse.csr_matrix(features2)\n",
        "features2"
      ],
      "execution_count": 29,
      "outputs": [
        {
          "output_type": "execute_result",
          "data": {
            "text/plain": [
              "<6643x1351 sparse matrix of type '<class 'numpy.float64'>'\n",
              "\twith 363595 stored elements in Compressed Sparse Row format>"
            ]
          },
          "metadata": {},
          "execution_count": 29
        }
      ]
    },
    {
      "cell_type": "code",
      "metadata": {
        "id": "iIBq5yBCqnHj"
      },
      "source": [
        "X_train2, X_test2, y_train, y_test = train_test_split(features2, df1['Helpful'], test_size=0.2, random_state=RAN_STATE)"
      ],
      "execution_count": 30,
      "outputs": []
    },
    {
      "cell_type": "code",
      "metadata": {
        "colab": {
          "base_uri": "https://localhost:8080/"
        },
        "id": "q2UUXLGbqpUr",
        "outputId": "fb6cf2b0-6dc2-473f-9223-2efac6cf70e6"
      },
      "source": [
        "from sklearn import model_selection\n",
        "# make the grid search object\n",
        "gs2 = model_selection.GridSearchCV(\n",
        "    estimator=LogisticRegression(),\n",
        "    param_grid={'C': [10**i for i in range(-5,5)], 'class_weight': [None, 'balanced']},\n",
        "    cv=model_selection.StratifiedKFold(n_splits=5),\n",
        "    scoring='roc_auc'\n",
        ")\n",
        "\n",
        "# fit the grid search object to our new dataset\n",
        "print ('Fitting grid search...')\n",
        "gs2.fit(X_train2, y_train)\n",
        "print (\"Grid search fitted.\")"
      ],
      "execution_count": 31,
      "outputs": [
        {
          "output_type": "stream",
          "text": [
            "Fitting grid search...\n",
            "Grid search fitted.\n"
          ],
          "name": "stdout"
        }
      ]
    },
    {
      "cell_type": "code",
      "metadata": {
        "colab": {
          "base_uri": "https://localhost:8080/"
        },
        "id": "s3O-w_gWrbW1",
        "outputId": "dbfc4106-762a-4559-aa8f-b71675ba13d1"
      },
      "source": [
        "# print the grid search scores.\n",
        "print (gs2.best_estimator_)\n",
        "gs2.best_params_"
      ],
      "execution_count": 32,
      "outputs": [
        {
          "output_type": "stream",
          "text": [
            "LogisticRegression(C=1, class_weight='balanced', dual=False, fit_intercept=True,\n",
            "                   intercept_scaling=1, l1_ratio=None, max_iter=100,\n",
            "                   multi_class='auto', n_jobs=None, penalty='l2',\n",
            "                   random_state=None, solver='lbfgs', tol=0.0001, verbose=0,\n",
            "                   warm_start=False)\n"
          ],
          "name": "stdout"
        },
        {
          "output_type": "execute_result",
          "data": {
            "text/plain": [
              "{'C': 1, 'class_weight': 'balanced'}"
            ]
          },
          "metadata": {},
          "execution_count": 32
        }
      ]
    },
    {
      "cell_type": "code",
      "metadata": {
        "colab": {
          "base_uri": "https://localhost:8080/",
          "height": 443
        },
        "id": "l7wS7KPisJ8H",
        "outputId": "4c9a897d-a1fa-41f7-8830-13eed3d783c2"
      },
      "source": [
        "clf2 = gs2.best_estimator_\n",
        "probas =clf2.predict_proba(X_test2)\n",
        "plt.figure(figsize = FIG_SIZE)\n",
        "plt.plot(roc_curve(y_test, probas[:,1])[0], roc_curve(y_test, probas[:,1])[1])\n",
        "plt.title('ROC Curve for Helpful Rating')\n",
        "plt.grid()\n",
        "plt.xlabel('False Positive Rate (1 - Specificity)')\n",
        "plt.ylabel('True Positive Rate (Sensitivity)')\n",
        "plt.show\n",
        "\n",
        "# ROC/AUC score\n",
        "print ('ROC_AUC Score:',roc_auc_score(y_test, probas[:,1].T))"
      ],
      "execution_count": 33,
      "outputs": [
        {
          "output_type": "stream",
          "text": [
            "ROC_AUC Score: 0.8561574208539064\n"
          ],
          "name": "stdout"
        },
        {
          "output_type": "display_data",
          "data": {
            "image/png": "[encoded data removed]",
            "text/plain": [
              "<Figure size 1008x576 with 1 Axes>"
            ]
          },
          "metadata": {
            "needs_background": "light"
          }
        }
      ]
    },
    {
      "cell_type": "code",
      "metadata": {
        "colab": {
          "base_uri": "https://localhost:8080/"
        },
        "id": "L2B4bKrLsM4g",
        "outputId": "786b55cb-a17a-46ca-cd85-103a5f7b1c87"
      },
      "source": [
        "random_numbers = range(1,101)\n",
        "tot = 0.0\n",
        "for seed in random_numbers:\n",
        "    clf3 = LogisticRegression(random_state=seed)\n",
        "    clf3.fit(X_train2, y_train)\n",
        "    probas =clf3.predict_proba(X_test2)\n",
        "    tot += roc_auc_score(y_test, probas[:,1].T)\n",
        "    \n",
        "print ('Average ROC_AUC Score for 1-100 random_state: {:.4f}'.format(tot/100))\n"
      ],
      "execution_count": 34,
      "outputs": [
        {
          "output_type": "stream",
          "text": [
            "Average ROC_AUC Score for 1-100 random_state: 0.8612\n"
          ],
          "name": "stdout"
        }
      ]
    },
    {
      "cell_type": "markdown",
      "metadata": {
        "id": "gOYkOd9azzLU"
      },
      "source": [
        "##Compare Models with and without Overall Feature"
      ]
    },
    {
      "cell_type": "code",
      "metadata": {
        "colab": {
          "base_uri": "https://localhost:8080/",
          "height": 443
        },
        "id": "37-1zwLAsUbZ",
        "outputId": "d1b2a77c-1207-4ee7-c92b-ed0818fc4322"
      },
      "source": [
        "clf = LogisticRegression()\n",
        "clf.fit(X_train,y_train)\n",
        "probas = clf.predict_proba(X_test)\n",
        "clf2 = gs2.best_estimator_\n",
        "probas2 =clf2.predict_proba(X_test2)\n",
        "plt.figure(figsize = FIG_SIZE)\n",
        "\n",
        "plt.plot(roc_curve(y_test, probas[:,1])[0], roc_curve(y_test, probas[:,1])[1], label = 'TFIDF')\n",
        "plt.plot(roc_curve(y_test, probas2[:,1])[0], roc_curve(y_test, probas2[:,1])[1], label = 'TFIDF + overall')\n",
        "plt.title('ROC Curve for Helpful Rating')\n",
        "plt.grid()\n",
        "plt.xlabel('False Positive Rate (1 - Specificity)')\n",
        "plt.ylabel('True Positive Rate (Sensitivity)')\n",
        "\n",
        "plt.legend(bbox_to_anchor=(1.0, .5))\n",
        "plt.figure(figsize=FIG_SIZE) \n",
        "plt.show()"
      ],
      "execution_count": 35,
      "outputs": [
        {
          "output_type": "display_data",
          "data": {
            "image/png": "[encoded data removed]",
            "text/plain": [
              "<Figure size 1008x576 with 1 Axes>"
            ]
          },
          "metadata": {
            "needs_background": "light"
          }
        },
        {
          "output_type": "display_data",
          "data": {
            "text/plain": [
              "<Figure size 1008x576 with 0 Axes>"
            ]
          },
          "metadata": {}
        }
      ]
    },
    {
      "cell_type": "markdown",
      "metadata": {
        "id": "FonEIDtfuJIP"
      },
      "source": [
        "#Predict Helpfulness of Generated Reviews"
      ]
    },
    {
      "cell_type": "markdown",
      "metadata": {
        "id": "5cPOWrAuudxD"
      },
      "source": [
        "##Download and Preprocess Generated Reviews"
      ]
    },
    {
      "cell_type": "code",
      "metadata": {
        "id": "lFlVo216-dbv"
      },
      "source": [
        "# obtain the generated reviews and convert to array\n",
        "path_to_file = '/content/drive/MyDrive/Colab Notebooks/edited_words.txt'\n",
        "example = open(path_to_file, 'rb').read().decode(encoding='utf-8')\n",
        "example = example.replace('\\n', ' ')\n",
        "ex_str = str(example)\n",
        "ex_arr = ex_str.split(\"\\\"\")\n",
        "df_generated = pd.DataFrame(ex_arr, columns = ['generatedReviewText'])"
      ],
      "execution_count": 36,
      "outputs": []
    },
    {
      "cell_type": "code",
      "metadata": {
        "colab": {
          "base_uri": "https://localhost:8080/"
        },
        "id": "3OGyVXXjRvmE",
        "outputId": "4c756080-005b-4405-9bba-5d669e2fc2ab"
      },
      "source": [
        "# convert text to lowercase\n",
        "df_generated.loc[:, 'generatedReviewText'] = df_generated['generatedReviewText'].str.lower()\n",
        "\n",
        "def remove_punctuation(text):\n",
        "    return text.translate(string.punctuation.translate('\"'))\n",
        "\n",
        "df_generated['generatedReviewText']=df_generated['generatedReviewText'].apply( lambda x: remove_punctuation(x))\n",
        "df_generated['generatedReviewText'].head(4)"
      ],
      "execution_count": 37,
      "outputs": [
        {
          "output_type": "execute_result",
          "data": {
            "text/plain": [
              "0    the book is subtised. until i just made edjort...\n",
              "1     the book expresses his new turns and makes a ...\n",
              "2     the books were going to caught up it with a s...\n",
              "3     the books boyfriends, lucas apart.  i clicked...\n",
              "Name: generatedReviewText, dtype: object"
            ]
          },
          "metadata": {},
          "execution_count": 37
        }
      ]
    },
    {
      "cell_type": "code",
      "metadata": {
        "colab": {
          "base_uri": "https://localhost:8080/"
        },
        "id": "qRLBFZ8sAXuf",
        "outputId": "368103a4-0200-4e4e-fd1e-7f8fd026fd28"
      },
      "source": [
        "pred_features = vectorizer.transform(df_generated['generatedReviewText'])\n",
        "pred_features"
      ],
      "execution_count": 38,
      "outputs": [
        {
          "output_type": "execute_result",
          "data": {
            "text/plain": [
              "<10x1350 sparse matrix of type '<class 'numpy.float64'>'\n",
              "\twith 502 stored elements in Compressed Sparse Row format>"
            ]
          },
          "metadata": {},
          "execution_count": 38
        }
      ]
    },
    {
      "cell_type": "markdown",
      "metadata": {
        "id": "Dm2KUXodu_p-"
      },
      "source": [
        "##Use LR Model to Predict Helpfulness"
      ]
    },
    {
      "cell_type": "code",
      "metadata": {
        "colab": {
          "base_uri": "https://localhost:8080/"
        },
        "id": "ElPfI6ja96sp",
        "outputId": "07c74700-a169-4670-fd35-6796011c622f"
      },
      "source": [
        "print(clf.predict_proba(pred_features))"
      ],
      "execution_count": 45,
      "outputs": [
        {
          "output_type": "stream",
          "text": [
            "[[0.02151569 0.97848431]\n",
            " [0.02156721 0.97843279]\n",
            " [0.02850151 0.97149849]\n",
            " [0.03624393 0.96375607]\n",
            " [0.03301399 0.96698601]\n",
            " [0.03021557 0.96978443]\n",
            " [0.02366331 0.97633669]\n",
            " [0.02526955 0.97473045]\n",
            " [0.04482887 0.95517113]\n",
            " [0.02601805 0.97398195]]\n"
          ],
          "name": "stdout"
        }
      ]
    },
    {
      "cell_type": "code",
      "metadata": {
        "colab": {
          "base_uri": "https://localhost:8080/"
        },
        "id": "iLkcM9IaUsUy",
        "outputId": "15937a60-1e46-4570-b4d0-39dcf27821b5"
      },
      "source": [
        "print(clf.predict(pred_features))"
      ],
      "execution_count": 47,
      "outputs": [
        {
          "output_type": "stream",
          "text": [
            "[1 1 1 1 1 1 1 1 1 1]\n"
          ],
          "name": "stdout"
        }
      ]
    },
    {
      "cell_type": "markdown",
      "metadata": {
        "id": "N7KU5gu1zd2F"
      },
      "source": [
        "##Add Feature and Make Prediction"
      ]
    },
    {
      "cell_type": "code",
      "metadata": {
        "id": "4np6WRCzxBc_"
      },
      "source": [
        "df_generated['overall'] = [4.5,4.5,1.5,1.5,1.5,4.5,1.5,1.5,1.5,4.5]"
      ],
      "execution_count": 60,
      "outputs": []
    },
    {
      "cell_type": "code",
      "metadata": {
        "colab": {
          "base_uri": "https://localhost:8080/"
        },
        "id": "GYljcwFcwtZa",
        "outputId": "f24acdef-1321-46b5-e2aa-c856cbda58fe"
      },
      "source": [
        "pred_overall = np.array(list(df_generated.overall))\n",
        "pred_overall = pred_overall.reshape(pred_features.shape[0], 1)\n",
        "\n",
        "pred_features2 = scipy.sparse.hstack((pred_features,scipy.sparse.csr_matrix(pred_overall)))\n",
        "\n",
        "pred_features2 = scipy.sparse.csr_matrix(pred_features2)\n",
        "pred_features2"
      ],
      "execution_count": 64,
      "outputs": [
        {
          "output_type": "execute_result",
          "data": {
            "text/plain": [
              "<10x1351 sparse matrix of type '<class 'numpy.float64'>'\n",
              "\twith 512 stored elements in Compressed Sparse Row format>"
            ]
          },
          "metadata": {},
          "execution_count": 64
        }
      ]
    },
    {
      "cell_type": "code",
      "metadata": {
        "colab": {
          "base_uri": "https://localhost:8080/"
        },
        "id": "2ogVu7M6yP8A",
        "outputId": "dce64914-d272-4416-fa5f-55cc8c6ffa07"
      },
      "source": [
        "print(clf2.predict_proba(pred_features2))"
      ],
      "execution_count": 65,
      "outputs": [
        {
          "output_type": "stream",
          "text": [
            "[[0.07384122 0.92615878]\n",
            " [0.03347178 0.96652822]\n",
            " [0.45397864 0.54602136]\n",
            " [0.32752541 0.67247459]\n",
            " [0.60593385 0.39406615]\n",
            " [0.07074662 0.92925338]\n",
            " [0.44993093 0.55006907]\n",
            " [0.56472213 0.43527787]\n",
            " [0.4569215  0.5430785 ]\n",
            " [0.05136556 0.94863444]]\n"
          ],
          "name": "stdout"
        }
      ]
    },
    {
      "cell_type": "code",
      "metadata": {
        "colab": {
          "base_uri": "https://localhost:8080/"
        },
        "id": "MrGTFJGzySEn",
        "outputId": "5d0ab0c8-1aa8-4ccb-8aab-3899093261d6"
      },
      "source": [
        "print(clf2.predict(pred_features2))"
      ],
      "execution_count": 66,
      "outputs": [
        {
          "output_type": "stream",
          "text": [
            "[1 1 1 1 0 1 1 0 1 1]\n"
          ],
          "name": "stdout"
        }
      ]
    }
  ]
}